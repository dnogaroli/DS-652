{
 "cells": [
  {
   "cell_type": "markdown",
   "metadata": {},
   "source": [
    "## Aula 5: Introdução a Banco de Dados + SQL\n",
    "\n",
    "### Objetivos\n",
    "Apresentar ao aluno conceitos de banco de dados e DBIs (Database Interface), com enfoque em bancos de dados relacionais e o uso do SQL.\n",
    "\n",
    "### Habilidades a serem desenvolvidas\n",
    "Ao fim da aula, o aluno deve saber:\n",
    "- Conceitos e definições de Banco de Dados, SBGD e Banco de Dados Relacionais;\n",
    "- Interpretar diagramas do modelo relacional;\n",
    "- Estruturar e criar um banco de dados;\n",
    "- Criar tabelas em um banco de dados;\n",
    "- Obter dados a partir de um banco de dados:\n",
    "    - Cláusulas `select`, `from`, `where`, `group by`, `having`, `order by`, `join`;\n",
    "- Enviar dados para um banco de dados.\n",
    "\n",
    "### Bibliotecas usadas\n",
    "- Pandas;\n",
    "- Numpy;\n",
    "- Matplotlib;\n",
    "- Seaborn;\n",
    "- SQLite;\n",
    "- SQLAlchemy.\n",
    "\n",
    "### Sugestões de exemplos e exercícios\n",
    "- Olist.\n",
    "\n",
    "### Sugestão de leitura\n",
    "- [Python + MySQL](https://www.w3schools.com/python/python_mysql_getstarted.asp)\n",
    "- [PEP 249](https://www.python.org/dev/peps/pep-0249/)\n",
    "- [Database Interfaces, no Python Wiki](https://wiki.python.org/moin/DatabaseInterfaces)"
   ]
  },
  {
   "cell_type": "markdown",
   "metadata": {},
   "source": [
    "## Códigos"
   ]
  },
  {
   "cell_type": "markdown",
   "metadata": {},
   "source": [
    "É possível **Inserir** dados na tabela, por exemplo:\n",
    "\n",
    "    INSERT INTO Usuarios(nome, idade, sexo, salario) VALUES (\"Joaquim Silva\",60,\"M\",200)\n",
    "    \n",
    "É possível **Atualizar** a tabela, por exemplo: \n",
    "\n",
    "    UPDATE Usuarios SET salario=2000 WHERE Nome=\"Joaquim Silva\"\n",
    "    \n",
    "É possível **Remover** os dados, por exemplo:\n",
    "\n",
    "    DELETE FROM Usuarios WHERE Nome=\"Joaquim Silva\"\n",
    "    \n",
    "É Possível **Consultar** a tabela, por exemplo :"
   ]
  },
  {
   "cell_type": "markdown",
   "metadata": {},
   "source": [
    "## Conexao no db4free"
   ]
  },
  {
   "cell_type": "code",
   "execution_count": 1,
   "metadata": {
    "ExecuteTime": {
     "end_time": "2020-12-17T22:21:05.849256Z",
     "start_time": "2020-12-17T22:21:01.610470Z"
    }
   },
   "outputs": [
    {
     "name": "stdout",
     "output_type": "stream",
     "text": [
      "Requirement already satisfied: mysql-connector-python in c:\\users\\lucas\\anaconda3\\lib\\site-packages (8.0.22)\n",
      "Requirement already satisfied: protobuf>=3.0.0 in c:\\users\\lucas\\anaconda3\\lib\\site-packages (from mysql-connector-python) (3.14.0)\n",
      "Requirement already satisfied: six>=1.9 in c:\\users\\lucas\\anaconda3\\lib\\site-packages (from protobuf>=3.0.0->mysql-connector-python) (1.15.0)\n"
     ]
    }
   ],
   "source": [
    "!pip install mysql-connector-python"
   ]
  },
  {
   "cell_type": "code",
   "execution_count": 2,
   "metadata": {
    "ExecuteTime": {
     "end_time": "2020-12-17T22:24:41.024298Z",
     "start_time": "2020-12-17T22:24:39.348064Z"
    },
    "hide_input": false
   },
   "outputs": [],
   "source": [
    "import mysql.connector\n",
    "import pandas as pd\n",
    "\n",
    "#Dados do banco de dados db4free\n",
    "\n",
    "host = 'db4free.net'\n",
    "port = 3306\n",
    "\n",
    "user = 'lucas_batista'\n",
    "password = \"letscode\"\n",
    "database = \"lucas_db_letscod\""
   ]
  },
  {
   "cell_type": "code",
   "execution_count": null,
   "metadata": {},
   "outputs": [],
   "source": [
    "con = mysql.connector.connect(user=user, \n",
    "                              password=password,\n",
    "                              host=host,\n",
    "                              database=database, port=port)\n",
    "\n",
    "cursor = con.cursor()\n",
    "\n",
    "print(cursor.execute(\"SHOW TABLES\"))"
   ]
  },
  {
   "cell_type": "code",
   "execution_count": null,
   "metadata": {
    "ExecuteTime": {
     "end_time": "2020-12-17T18:23:09.705420Z",
     "start_time": "2020-12-17T18:23:05.598626Z"
    },
    "scrolled": true
   },
   "outputs": [],
   "source": [
    "#Conectando\n",
    "con = mysql.connector.connect(user=user, \n",
    "                              password=password,\n",
    "                              host=host,\n",
    "                              database=database, port=port)\n",
    "\n",
    "sql = '''CREATE TABLE empresas(estabelecimento CHAR(40),\n",
    "                               receita INT,\n",
    "                               custo INT,\n",
    "                               anomes INT)'''\n",
    "\n",
    "cursor = con.cursor()\n",
    "\n",
    "cursor.execute('DROP TABLE IF EXISTS empresas')\n",
    "cursor.execute(sql)\n",
    "\n",
    "print(cursor.execute(\"SHOW TABLES\"))\n",
    "\n",
    "con.close()\n",
    "cursor.description"
   ]
  },
  {
   "cell_type": "code",
   "execution_count": null,
   "metadata": {
    "ExecuteTime": {
     "end_time": "2020-11-19T00:33:44.485321Z",
     "start_time": "2020-11-19T00:33:37.043161Z"
    }
   },
   "outputs": [],
   "source": [
    "con = mysql.connector.connect(user=user, \n",
    "                              password=password,\n",
    "                              host=host,\n",
    "                              database=database)\n",
    "\n",
    "cursor = con.cursor()\n",
    "\n",
    "sql = \"select * from empresas\"\n",
    "cursor.execute(sql)\n",
    "resultado = cursor.fetchall()\n",
    "\n",
    "desc = cursor.description\n",
    "cursor.close()\n",
    "con.close()\n",
    "print(desc)"
   ]
  },
  {
   "cell_type": "code",
   "execution_count": null,
   "metadata": {
    "ExecuteTime": {
     "start_time": "2020-03-14T21:57:01.132Z"
    }
   },
   "outputs": [],
   "source": [
    "resultado"
   ]
  },
  {
   "cell_type": "markdown",
   "metadata": {},
   "source": [
    "### Inserindo dados\n",
    "\n",
    "Para inserir dados temos que executar uma query atraves de um cursor (uma extrutura de controle), porém a inserção so é salva no banco após enviarmos um commit.\n",
    "\n",
    "Oberve que ao criamos a query não passamos os valores a serem inseridos diretamente, eles são passados na fução execute, como uma tupla em uma variavel diferente da query. Isto impede o [sql injection](https://pt.wikipedia.org/wiki/Inje%C3%A7%C3%A3o_de_SQL), um tipo comum de ataque por hackers."
   ]
  },
  {
   "cell_type": "markdown",
   "metadata": {},
   "source": [
    "#### Inserindo dados"
   ]
  },
  {
   "cell_type": "code",
   "execution_count": null,
   "metadata": {
    "ExecuteTime": {
     "start_time": "2020-03-14T21:57:06.709Z"
    }
   },
   "outputs": [],
   "source": [
    "#Abre conexao\n",
    "con = mysql.connector.connect(user=user,\n",
    "                              password=password,\n",
    "                              host=host,\n",
    "                              database=database)\n",
    "\n",
    "val = (\"MCDonalds\",\"5000\",\"4000\",\"201912\")\n",
    "\n",
    "sql = f'''INSERT INTO empresas(estabelecimento, receita, custo, anomes) \n",
    "VALUES ('{val[0]}','{val[1]}','{val[2]}','{val[3]}')'''\n",
    "\n",
    "print(sql)\n",
    "\n",
    "#Define cursor\n",
    "cursor = con.cursor()\n",
    "#Executa código SQL\n",
    "cursor.execute(sql)\n",
    "#Realiza commit\n",
    "con.commit()\n",
    "#Fecha a conexão\n",
    "con.close()"
   ]
  },
  {
   "cell_type": "markdown",
   "metadata": {},
   "source": [
    "#### Checando inserção dos dados"
   ]
  },
  {
   "cell_type": "code",
   "execution_count": null,
   "metadata": {
    "ExecuteTime": {
     "end_time": "2020-11-19T00:03:22.142091Z",
     "start_time": "2020-11-19T00:03:19.639412Z"
    }
   },
   "outputs": [],
   "source": [
    "con = mysql.connector.connect(user=user, \n",
    "                              password=password,\n",
    "                              host=host,\n",
    "                              database=database)\n",
    "\n",
    "cursor = con.cursor()\n",
    "\n",
    "sql = \"select * from empresas\"\n",
    "cursor.execute(sql)\n",
    "resultado = cursor.fetchall()\n",
    "\n",
    "con.close()\n",
    "cursor.close()\n",
    "\n",
    "print(resultado)"
   ]
  },
  {
   "cell_type": "markdown",
   "metadata": {},
   "source": [
    "#### Inserindo mais dados"
   ]
  },
  {
   "cell_type": "code",
   "execution_count": null,
   "metadata": {
    "ExecuteTime": {
     "start_time": "2020-03-14T21:57:15.649Z"
    }
   },
   "outputs": [],
   "source": [
    "#Abre conexao\n",
    "con = mysql.connector.connect(user=user,\n",
    "                              password=password,\n",
    "                              host=host,\n",
    "                              database=database)\n",
    "\n",
    "val = (\"BurgerKing\",\"4000\",\"2800\",\"201912\")\n",
    "\n",
    "sql = f'''INSERT INTO empresas(estabelecimento, receita, custo, anomes) \n",
    "VALUES ('{val[0]}','{val[1]}','{val[2]}','{val[3]}')'''\n",
    "\n",
    "print(sql)\n",
    "\n",
    "#Define cursor\n",
    "cursor = con.cursor()\n",
    "#Executa código SQL\n",
    "cursor.execute(sql)\n",
    "#Realiza commit\n",
    "con.commit()\n",
    "#Fecha a conexão\n",
    "con.close()"
   ]
  },
  {
   "cell_type": "code",
   "execution_count": null,
   "metadata": {
    "ExecuteTime": {
     "end_time": "2020-03-14T21:39:38.098616Z",
     "start_time": "2020-03-14T21:39:38.088129Z"
    }
   },
   "outputs": [],
   "source": [
    "resultado"
   ]
  },
  {
   "cell_type": "markdown",
   "metadata": {},
   "source": [
    "## Inserindo vários Dados de uma só vez"
   ]
  },
  {
   "cell_type": "code",
   "execution_count": null,
   "metadata": {
    "ExecuteTime": {
     "start_time": "2020-03-14T21:57:40.837Z"
    }
   },
   "outputs": [],
   "source": [
    "con = mysql.connector.connect(user=user,\n",
    "                              password=password,\n",
    "                              host=host,\n",
    "                              database=database)\n",
    "\n",
    "cursor = con.cursor()\n",
    "\n",
    "val =  [(\"Wendys\",\"6000\",\"4500\",\"202001\"),\n",
    "        (\"Patties\",\"900\",\"900\",\"202001\"),\n",
    "        ('Zebeleo', '5', '10000', '202002'),\n",
    "        ('Koburger', '3000', '2500', '202002')]\n",
    "\n",
    "\n",
    "sql = '''INSERT INTO empresas(estabelecimento, receita, custo, anomes) \n",
    "          VALUES (%s, %s, %s, %s)'''\n",
    "\n",
    "\n",
    "cursor.executemany(sql, val)\n",
    "    \n",
    "con.commit()\n",
    "con.close()"
   ]
  },
  {
   "cell_type": "code",
   "execution_count": null,
   "metadata": {
    "ExecuteTime": {
     "end_time": "2020-03-14T21:49:18.398128Z",
     "start_time": "2020-03-14T21:49:16.174775Z"
    },
    "scrolled": true
   },
   "outputs": [],
   "source": [
    "con = mysql.connector.connect(user=user,\n",
    "                              password=password,\n",
    "                              host=host,\n",
    "                              database=database)\n",
    "cursor = con.cursor()\n",
    "\n",
    "#Query de para buscar todos os usarios\n",
    "sql = \"SELECT * FROM empresas\"\n",
    "cursor.execute(sql)\n",
    "#Pegando todos os valores retorno\n",
    "resultado = cursor.fetchall()\n",
    "#imprimindo item a item\n",
    "for linha in resultado:\n",
    "    print(\"--------------\")\n",
    "    print(linha)\n",
    "    print(\"Estabelecimento:\",linha[0])\n",
    "    print(\"Receita:\",linha[1])\n",
    "    print(\"Custo:\",linha[2])\n",
    "    print(\"Anomes:\",linha[3])\n",
    "\n",
    "con.close()"
   ]
  },
  {
   "cell_type": "code",
   "execution_count": null,
   "metadata": {
    "ExecuteTime": {
     "end_time": "2020-03-14T21:49:58.603946Z",
     "start_time": "2020-03-14T21:49:58.596946Z"
    }
   },
   "outputs": [],
   "source": [
    "def select_table(user=user,\n",
    "                password=password,\n",
    "                host=host,\n",
    "                database=database,\n",
    "                table_name = 'empresas'):\n",
    "    \n",
    "    con = mysql.connector.connect(user=user,\n",
    "                                  password=password,\n",
    "                                  host=host,\n",
    "                                  database=database)\n",
    "    cursor = con.cursor()\n",
    "    sql = \"SELECT * FROM {}\".format(table_name)\n",
    "    cursor.execute(sql)\n",
    "    resultado = cursor.fetchall()\n",
    "    con.close()\n",
    "    \n",
    "    return resultado, cursor"
   ]
  },
  {
   "cell_type": "code",
   "execution_count": null,
   "metadata": {
    "ExecuteTime": {
     "end_time": "2020-03-14T21:50:46.823761Z",
     "start_time": "2020-03-14T21:50:46.805290Z"
    }
   },
   "outputs": [],
   "source": [
    "def input_data():\n",
    "    print('Nome da Empresa :')\n",
    "    nome = input()\n",
    "    print('Receita da Empresa :')\n",
    "    receita = input()\n",
    "    print('Custo da Empresa :')\n",
    "    custo = input()\n",
    "    print('Anomes :')\n",
    "    anomes = input()\n",
    "    \n",
    "    con = mysql.connector.connect(user=user,\n",
    "                              password=password,\n",
    "                              host=host,\n",
    "                         database=database)\n",
    "    \n",
    "    cursor = con.cursor()\n",
    "    \n",
    "    query = f'''INSERT INTO empresas(estabelecimento,receita, custo, anomes) \n",
    "                    VALUES ('{nome}','{receita}','{custo}','{anomes}')'''\n",
    "    \n",
    "    cursor.execute(query)\n",
    "    con.commit()\n",
    "    con.close()\n",
    "    return None"
   ]
  },
  {
   "cell_type": "markdown",
   "metadata": {},
   "source": [
    "**ARGS e KWARGS**\n",
    "\n",
    "Nesse ponto da aula, vocês haviam sugerido de utilizar o `args` para passar os parâmetros `user`, `password`, etc... na função `input_data` e consequentemente no `mysql.connector.connect`. Acontece que nesse caso, acredito que não seria a melhor forma, pois nós queremos garantir que os parâmetros sejam explicitamente definidos, alem de que utilizando o `args`, teríamos que verificar qual argumento se enquadraría em determinado parâmetro.\n",
    "\n",
    "Ter conhecimento do que eles fazem é bem válido. Deixo uns links explicando como eles podem ser utilizados e pra que servem:\n",
    "- https://medium.com/rafaeltardivo/python-entendendo-o-uso-de-args-e-kwargs-em-fun%C3%A7%C3%B5es-e-m%C3%A9todos-c8c2810e9dc8\n",
    "- https://www.geeksforgeeks.org/args-kwargs-python/\n",
    "- https://www.programiz.com/python-programming/args-and-kwargs"
   ]
  },
  {
   "cell_type": "code",
   "execution_count": null,
   "metadata": {
    "ExecuteTime": {
     "end_time": "2020-03-14T21:51:05.258394Z",
     "start_time": "2020-03-14T21:50:47.731322Z"
    }
   },
   "outputs": [],
   "source": [
    "input_data()"
   ]
  },
  {
   "cell_type": "code",
   "execution_count": null,
   "metadata": {
    "ExecuteTime": {
     "end_time": "2020-03-14T21:51:19.795624Z",
     "start_time": "2020-03-14T21:51:09.693770Z"
    }
   },
   "outputs": [],
   "source": [
    "resultado, cursor = select_table()"
   ]
  },
  {
   "cell_type": "code",
   "execution_count": null,
   "metadata": {
    "ExecuteTime": {
     "end_time": "2020-03-14T21:51:23.441220Z",
     "start_time": "2020-03-14T21:51:23.437229Z"
    }
   },
   "outputs": [],
   "source": [
    "columns = [col[0] for col in cursor.description]"
   ]
  },
  {
   "cell_type": "code",
   "execution_count": null,
   "metadata": {
    "ExecuteTime": {
     "end_time": "2020-03-14T21:51:28.225222Z",
     "start_time": "2020-03-14T21:51:28.207251Z"
    }
   },
   "outputs": [],
   "source": [
    "df_empresas = pd.DataFrame(resultado, columns=columns)"
   ]
  },
  {
   "cell_type": "code",
   "execution_count": null,
   "metadata": {
    "ExecuteTime": {
     "end_time": "2020-03-14T21:51:28.765202Z",
     "start_time": "2020-03-14T21:51:28.731267Z"
    }
   },
   "outputs": [],
   "source": [
    "df_empresas.head()"
   ]
  },
  {
   "cell_type": "markdown",
   "metadata": {},
   "source": [
    "**Lendo do pandas de forma alternativa**"
   ]
  },
  {
   "cell_type": "code",
   "execution_count": null,
   "metadata": {
    "ExecuteTime": {
     "end_time": "2020-03-14T21:51:56.487070Z",
     "start_time": "2020-03-14T21:51:53.764125Z"
    }
   },
   "outputs": [],
   "source": [
    "con = mysql.connector.connect(user=user,\n",
    "                              password=password,\n",
    "                              host=host,\n",
    "                              database=database)\n",
    "cursor = con.cursor()\n",
    "\n",
    "#usando o read_sql_query\n",
    "df = pd.read_sql_query(\"SELECT * from empresas\", con)\n",
    "\n",
    "con.close()"
   ]
  },
  {
   "cell_type": "code",
   "execution_count": null,
   "metadata": {
    "ExecuteTime": {
     "end_time": "2020-03-14T21:51:56.637438Z",
     "start_time": "2020-03-14T21:51:56.626461Z"
    }
   },
   "outputs": [],
   "source": [
    "df.head()"
   ]
  },
  {
   "cell_type": "markdown",
   "metadata": {},
   "source": [
    "Abrir conexao\n",
    "definir um cursor\n",
    "Executar a partir do cursor\n",
    "commitar\n",
    "fechar conexao\n",
    "\n",
    "con -> cursor -> cursor.execute() -> con.commit() -> con.close()"
   ]
  },
  {
   "cell_type": "code",
   "execution_count": null,
   "metadata": {
    "ExecuteTime": {
     "end_time": "2020-03-14T21:52:45.170895Z",
     "start_time": "2020-03-14T21:52:42.965460Z"
    }
   },
   "outputs": [],
   "source": [
    "#Propor exercicio para ler apenas o primeiro nome\n",
    "#Lendo apenas o nome\n",
    "con = mysql.connector.connect(user=user,\n",
    "                              password=password,\n",
    "                              host=host,\n",
    "                              database=database)\n",
    "cursor = con.cursor()\n",
    "\n",
    "sql = \"SELECT estabelecimento FROM empresas\"\n",
    "cursor.execute(sql)\n",
    "resultado = cursor.fetchall()\n",
    "for linha in resultado:\n",
    "    print(\"--------------\")\n",
    "    print(linha)\n",
    "con.close()"
   ]
  },
  {
   "cell_type": "markdown",
   "metadata": {},
   "source": [
    "### Deletando dados a respeito de uma Tabela"
   ]
  },
  {
   "cell_type": "code",
   "execution_count": null,
   "metadata": {
    "ExecuteTime": {
     "start_time": "2020-03-14T21:57:57.560Z"
    }
   },
   "outputs": [],
   "source": [
    "con = mysql.connector.connect(user=user,\n",
    "                              password=password,\n",
    "                              host=host,\n",
    "                              database=database)\n",
    "cursor = con.cursor()\n",
    "\n",
    "sql = \"DELETE FROM empresas Where estabelecimento = 'Tertulia'\"\n",
    "cursor.execute(sql)\n",
    "\n",
    "con.commit()\n",
    "con.close()"
   ]
  },
  {
   "cell_type": "markdown",
   "metadata": {},
   "source": [
    "### Atualizando Dados a respeito de uma tabela"
   ]
  },
  {
   "cell_type": "code",
   "execution_count": null,
   "metadata": {
    "ExecuteTime": {
     "end_time": "2020-11-18T23:57:22.894702Z",
     "start_time": "2020-11-18T23:57:20.059517Z"
    }
   },
   "outputs": [],
   "source": [
    "con = mysql.connector.connect(user=user,\n",
    "                              password=password,\n",
    "                              host=host,\n",
    "                              database=database)\n",
    "cursor = con.cursor()\n",
    "\n",
    "sql = \"UPDATE empresas set estabelecimento = 'Mequi_1000' Where estabelecimento = 'MCDonalds'\"\n",
    "cursor.execute(sql)\n",
    "\n",
    "con.commit()\n",
    "con.close()"
   ]
  },
  {
   "cell_type": "markdown",
   "metadata": {},
   "source": [
    "## Comandos SQL"
   ]
  },
  {
   "cell_type": "markdown",
   "metadata": {},
   "source": [
    "### Where"
   ]
  },
  {
   "cell_type": "code",
   "execution_count": null,
   "metadata": {
    "ExecuteTime": {
     "end_time": "2020-11-19T00:03:53.636149Z",
     "start_time": "2020-11-19T00:03:51.240315Z"
    }
   },
   "outputs": [],
   "source": [
    "con = mysql.connector.connect(user=user, \n",
    "                              password=password,\n",
    "                              host=host,\n",
    "                              database=database)\n",
    "cursor = con.cursor()\n",
    "\n",
    "sql = '''SELECT *\n",
    "         FROM empresas\n",
    "         WHERE receita > 1000'''\n",
    "\n",
    "cursor.execute(sql)\n",
    "resultado = cursor.fetchall()\n",
    "con.close()\n",
    "print(resultado)"
   ]
  },
  {
   "cell_type": "markdown",
   "metadata": {},
   "source": [
    "### Group by"
   ]
  },
  {
   "cell_type": "code",
   "execution_count": null,
   "metadata": {
    "ExecuteTime": {
     "end_time": "2020-11-19T00:09:47.579021Z",
     "start_time": "2020-11-19T00:09:39.487794Z"
    }
   },
   "outputs": [],
   "source": [
    "con = mysql.connector.connect(user=user, \n",
    "                              password=password,\n",
    "                              host=host,\n",
    "                              database=database)\n",
    "cursor = con.cursor()\n",
    "\n",
    "sql = '''SELECT anomes, SUM(receita) as soma_receita\n",
    "         FROM empresas\n",
    "         GROUP BY anomes'''\n",
    "\n",
    "cursor.execute(sql)\n",
    "resultado = cursor.fetchall()\n",
    "con.close()\n",
    "print(resultado)"
   ]
  },
  {
   "cell_type": "code",
   "execution_count": null,
   "metadata": {
    "ExecuteTime": {
     "end_time": "2020-11-19T00:10:45.245576Z",
     "start_time": "2020-11-19T00:10:45.235679Z"
    }
   },
   "outputs": [],
   "source": [
    "[res[0] for res in cursor.description]"
   ]
  },
  {
   "cell_type": "markdown",
   "metadata": {},
   "source": [
    "### Order by"
   ]
  },
  {
   "cell_type": "code",
   "execution_count": null,
   "metadata": {
    "ExecuteTime": {
     "end_time": "2020-11-19T00:27:02.808829Z",
     "start_time": "2020-11-19T00:17:17.793404Z"
    }
   },
   "outputs": [],
   "source": [
    "con = mysql.connector.connect(user=user, \n",
    "                              password=password,\n",
    "                              host=host,\n",
    "                              database=database)\n",
    "cursor = con.cursor()\n",
    "\n",
    "sql = '''SELECT anomes, SUM(receita) as soma_receita\n",
    "         FROM empresas\n",
    "         GROUP BY anomes\n",
    "         ORDER BY anomes DESC'''\n",
    "\n",
    "cursor.execute(sql)\n",
    "resultado = cursor.fetchall()\n",
    "con.close()\n",
    "print(resultado)"
   ]
  },
  {
   "cell_type": "markdown",
   "metadata": {},
   "source": [
    "### Having"
   ]
  },
  {
   "cell_type": "code",
   "execution_count": null,
   "metadata": {
    "ExecuteTime": {
     "end_time": "2020-11-19T00:12:41.053829Z",
     "start_time": "2020-11-19T00:12:38.093836Z"
    }
   },
   "outputs": [],
   "source": [
    "con = mysql.connector.connect(user=user, \n",
    "                              password=password,\n",
    "                              host=host,\n",
    "                              database=database)\n",
    "cursor = con.cursor()\n",
    "\n",
    "sql = '''SELECT anomes, SUM(receita) as soma_receita\n",
    "         FROM empresas\n",
    "         GROUP BY anomes\n",
    "         HAVING soma_receita > 6000\n",
    "         '''\n",
    "\n",
    "cursor.execute(sql)\n",
    "resultado = cursor.fetchall()\n",
    "con.close()\n",
    "print(resultado)"
   ]
  }
 ],
 "metadata": {
  "hide_input": false,
  "kernelspec": {
   "display_name": "Python 3",
   "language": "python",
   "name": "python3"
  },
  "language_info": {
   "codemirror_mode": {
    "name": "ipython",
    "version": 3
   },
   "file_extension": ".py",
   "mimetype": "text/x-python",
   "name": "python",
   "nbconvert_exporter": "python",
   "pygments_lexer": "ipython3",
   "version": "3.8.3"
  }
 },
 "nbformat": 4,
 "nbformat_minor": 2
}
