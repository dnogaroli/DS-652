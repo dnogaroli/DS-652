{
 "cells": [
  {
   "cell_type": "markdown",
   "metadata": {},
   "source": [
    "## Aula 5: Introdução a Banco de Dados + SQL\n",
    "\n",
    "### Objetivos\n",
    "Apresentar ao aluno conceitos de banco de dados e DBIs (Database Interface), com enfoque em bancos de dados relacionais e o uso do SQL.\n",
    "\n",
    "### Habilidades a serem desenvolvidas\n",
    "Ao fim da aula, o aluno deve saber:\n",
    "- Conceitos e definições de Banco de Dados, SBGD e Banco de Dados Relacionais;\n",
    "- Interpretar diagramas do modelo relacional;\n",
    "- Estruturar e criar um banco de dados;\n",
    "- Criar tabelas em um banco de dados;\n",
    "- Obter dados a partir de um banco de dados:\n",
    "    - Cláusulas `select`, `from`, `where`, `group by`, `having`, `order by`, `join`;\n",
    "- Enviar dados para um banco de dados.\n",
    "\n",
    "### Bibliotecas usadas\n",
    "- Pandas;\n",
    "- Numpy;\n",
    "- Matplotlib;\n",
    "- Seaborn;\n",
    "- SQLite;\n",
    "- SQLAlchemy.\n",
    "\n",
    "### Sugestões de exemplos e exercícios\n",
    "- Olist.\n",
    "\n",
    "### Sugestão de leitura\n",
    "- [Python + MySQL](https://www.w3schools.com/python/python_mysql_getstarted.asp)\n",
    "- [PEP 249](https://www.python.org/dev/peps/pep-0249/)\n",
    "- [Database Interfaces, no Python Wiki](https://wiki.python.org/moin/DatabaseInterfaces)"
   ]
  },
  {
   "cell_type": "markdown",
   "metadata": {},
   "source": [
    "## Códigos"
   ]
  },
  {
   "cell_type": "markdown",
   "metadata": {},
   "source": [
    "É possível **Inserir** dados na tabela, por exemplo:\n",
    "\n",
    "    INSERT INTO Usuarios(nome, idade, sexo, salario) VALUES (\"Joaquim Silva\",60,\"M\",200)\n",
    "    \n",
    "É possível **Atualizar** a tabela, por exemplo: \n",
    "\n",
    "    UPDATE Usuarios SET salario=2000 WHERE Nome=\"Joaquim Silva\"\n",
    "    \n",
    "É possível **Remover** os dados, por exemplo:\n",
    "\n",
    "    DELETE FROM Usuarios WHERE Nome=\"Joaquim Silva\"\n",
    "    \n",
    "É Possível **Consultar** a tabela, por exemplo :"
   ]
  },
  {
   "cell_type": "markdown",
   "metadata": {},
   "source": [
    "## Conexao no db4free"
   ]
  },
  {
   "cell_type": "code",
   "execution_count": 1,
   "metadata": {
    "ExecuteTime": {
     "end_time": "2020-12-17T22:21:05.849256Z",
     "start_time": "2020-12-17T22:21:01.610470Z"
    }
   },
   "outputs": [
    {
     "name": "stdout",
     "output_type": "stream",
     "text": [
      "Requirement already satisfied: mysql-connector-python in c:\\users\\lucas\\anaconda3\\lib\\site-packages (8.0.22)\n",
      "Requirement already satisfied: protobuf>=3.0.0 in c:\\users\\lucas\\anaconda3\\lib\\site-packages (from mysql-connector-python) (3.14.0)\n",
      "Requirement already satisfied: six>=1.9 in c:\\users\\lucas\\anaconda3\\lib\\site-packages (from protobuf>=3.0.0->mysql-connector-python) (1.15.0)\n"
     ]
    }
   ],
   "source": [
    "!pip install mysql-connector-python"
   ]
  },
  {
   "cell_type": "code",
   "execution_count": 2,
   "metadata": {
    "ExecuteTime": {
     "end_time": "2020-12-17T22:24:41.024298Z",
     "start_time": "2020-12-17T22:24:39.348064Z"
    },
    "hide_input": false
   },
   "outputs": [],
   "source": [
    "import mysql.connector\n",
    "import pandas as pd\n",
    "\n",
    "#Dados do banco de dados db4free\n",
    "\n",
    "host = 'db4free.net'\n",
    "port = 3306\n",
    "\n",
    "user = 'lucas_batista'\n",
    "password = \"letscode\"\n",
    "database = \"lucas_db_letscod\""
   ]
  },
  {
   "cell_type": "code",
   "execution_count": 4,
   "metadata": {
    "ExecuteTime": {
     "end_time": "2020-12-17T22:39:10.692021Z",
     "start_time": "2020-12-17T22:39:07.891150Z"
    }
   },
   "outputs": [
    {
     "name": "stdout",
     "output_type": "stream",
     "text": [
      "None\n"
     ]
    }
   ],
   "source": [
    "con = mysql.connector.connect(user=user, \n",
    "                              password=password,\n",
    "                              host=host,\n",
    "                              database=database, port=port)\n",
    "\n",
    "cursor = con.cursor()\n",
    "\n",
    "\n",
    "print(cursor.execute(\"SHOW TABLES\"))\n",
    "\n",
    "# cursor.close()\n",
    "con.close()"
   ]
  },
  {
   "cell_type": "code",
   "execution_count": 7,
   "metadata": {
    "ExecuteTime": {
     "end_time": "2020-12-17T22:40:08.878891Z",
     "start_time": "2020-12-17T22:40:03.491785Z"
    },
    "scrolled": false
   },
   "outputs": [
    {
     "name": "stdout",
     "output_type": "stream",
     "text": [
      "None\n"
     ]
    },
    {
     "data": {
      "text/plain": [
       "[('Tables_in_lucas_db_letscod', 253, None, None, None, None, 0, 4225)]"
      ]
     },
     "execution_count": 7,
     "metadata": {},
     "output_type": "execute_result"
    }
   ],
   "source": [
    "#Conectando\n",
    "con = mysql.connector.connect(user=user, \n",
    "                              password=password,\n",
    "                              host=host,\n",
    "                              database=database, port=port)\n",
    "\n",
    "sql = '''CREATE TABLE empresas(estabelecimento CHAR(40),\n",
    "                               receita INT,\n",
    "                               custo INT,\n",
    "                               anomes INT)'''\n",
    "\n",
    "cursor = con.cursor()\n",
    "\n",
    "cursor.execute('DROP TABLE IF EXISTS empresas')\n",
    "cursor.execute(sql)\n",
    "\n",
    "print(cursor.execute(\"SHOW TABLES\"))\n",
    "\n",
    "con.close()\n",
    "cursor.description"
   ]
  },
  {
   "cell_type": "code",
   "execution_count": 8,
   "metadata": {
    "ExecuteTime": {
     "end_time": "2020-12-17T22:41:53.197282Z",
     "start_time": "2020-12-17T22:41:42.735206Z"
    }
   },
   "outputs": [
    {
     "name": "stdout",
     "output_type": "stream",
     "text": [
      "[('estabelecimento', 254, None, None, None, None, 1, 0), ('receita', 3, None, None, None, None, 1, 0), ('custo', 3, None, None, None, None, 1, 0), ('anomes', 3, None, None, None, None, 1, 0)]\n"
     ]
    }
   ],
   "source": [
    "con = mysql.connector.connect(user=user, \n",
    "                              password=password,\n",
    "                              host=host,\n",
    "                              database=database)\n",
    "\n",
    "cursor = con.cursor()\n",
    "\n",
    "sql = \"SELECT * FROM empresas\"\n",
    "cursor.execute(sql)\n",
    "resultado = cursor.fetchall()\n",
    "\n",
    "desc = cursor.description\n",
    "cursor.close()\n",
    "con.close()\n",
    "print(desc)"
   ]
  },
  {
   "cell_type": "code",
   "execution_count": 9,
   "metadata": {
    "ExecuteTime": {
     "end_time": "2020-12-17T22:43:00.210864Z",
     "start_time": "2020-12-17T22:43:00.199867Z"
    }
   },
   "outputs": [
    {
     "data": {
      "text/plain": [
       "[]"
      ]
     },
     "execution_count": 9,
     "metadata": {},
     "output_type": "execute_result"
    }
   ],
   "source": [
    "resultado"
   ]
  },
  {
   "cell_type": "markdown",
   "metadata": {},
   "source": [
    "### Inserindo dados\n",
    "\n",
    "Para inserir dados temos que executar uma query atraves de um cursor (uma extrutura de controle), porém a inserção so é salva no banco após enviarmos um commit.\n",
    "\n",
    "Oberve que ao criamos a query não passamos os valores a serem inseridos diretamente, eles são passados na fução execute, como uma tupla em uma variavel diferente da query. Isto impede o [sql injection](https://pt.wikipedia.org/wiki/Inje%C3%A7%C3%A3o_de_SQL), um tipo comum de ataque por hackers."
   ]
  },
  {
   "cell_type": "markdown",
   "metadata": {},
   "source": [
    "#### Inserindo dados"
   ]
  },
  {
   "cell_type": "code",
   "execution_count": 10,
   "metadata": {
    "ExecuteTime": {
     "end_time": "2020-12-17T22:48:25.767638Z",
     "start_time": "2020-12-17T22:48:22.563044Z"
    }
   },
   "outputs": [
    {
     "name": "stdout",
     "output_type": "stream",
     "text": [
      "INSERT INTO empresas(estabelecimento, receita, custo, anomes) \n",
      "VALUES ('MCDonalds','5000','4000','201912')\n"
     ]
    }
   ],
   "source": [
    "#Abre conexao\n",
    "con = mysql.connector.connect(user=user,\n",
    "                              password=password,\n",
    "                              host=host,\n",
    "                              database=database)\n",
    "\n",
    "val = (\"MCDonalds\",\"5000\",\"4000\",\"201912\")\n",
    "\n",
    "\n",
    "sql = f'''INSERT INTO empresas(estabelecimento, receita, custo, anomes) \n",
    "VALUES ('{val[0]}','{val[1]}','{val[2]}','{val[3]}')'''\n",
    "\n",
    "print(sql)\n",
    "\n",
    "#Define cursor\n",
    "cursor = con.cursor()\n",
    "#Executa código SQL\n",
    "cursor.execute(sql)\n",
    "#Realiza commit\n",
    "con.commit()\n",
    "#Fecha a conexão\n",
    "con.close()"
   ]
  },
  {
   "cell_type": "markdown",
   "metadata": {},
   "source": [
    "#### Checando inserção dos dados"
   ]
  },
  {
   "cell_type": "code",
   "execution_count": 18,
   "metadata": {
    "ExecuteTime": {
     "end_time": "2020-12-17T22:52:20.759809Z",
     "start_time": "2020-12-17T22:52:18.330364Z"
    }
   },
   "outputs": [
    {
     "name": "stdout",
     "output_type": "stream",
     "text": [
      "[('MCDonalds', 5000, 4000, 201912), ('BurgerKing', 4000, 2800, 201912), ('Wendys', 6000, 4500, 202001), ('Patties', 900, 900, 202001), ('Zebeleo', 5, 10000, 202002), ('Koburger', 3000, 2500, 202002)]\n"
     ]
    }
   ],
   "source": [
    "con = mysql.connector.connect(user=user, \n",
    "                              password=password,\n",
    "                              host=host,\n",
    "                              database=database)\n",
    "\n",
    "cursor = con.cursor()\n",
    "\n",
    "sql = \"select * from empresas\"\n",
    "cursor.execute(sql)\n",
    "resultado = cursor.fetchall()\n",
    "\n",
    "con.close()\n",
    "cursor.close()\n",
    "\n",
    "print(resultado)"
   ]
  },
  {
   "cell_type": "markdown",
   "metadata": {},
   "source": [
    "#### Inserindo mais dados"
   ]
  },
  {
   "cell_type": "code",
   "execution_count": 12,
   "metadata": {
    "ExecuteTime": {
     "end_time": "2020-12-17T22:50:13.886473Z",
     "start_time": "2020-12-17T22:50:05.999534Z"
    }
   },
   "outputs": [
    {
     "name": "stdout",
     "output_type": "stream",
     "text": [
      "INSERT INTO empresas(estabelecimento, receita, custo, anomes) \n",
      "VALUES ('BurgerKing','4000','2800','201912')\n"
     ]
    }
   ],
   "source": [
    "#Abre conexao\n",
    "con = mysql.connector.connect(user=user,\n",
    "                              password=password,\n",
    "                              host=host,\n",
    "                              database=database)\n",
    "\n",
    "val = (\"BurgerKing\",\"4000\",\"2800\",\"201912\")\n",
    "\n",
    "sql = f'''INSERT INTO empresas(estabelecimento, receita, custo, anomes) \n",
    "VALUES ('{val[0]}','{val[1]}','{val[2]}','{val[3]}')'''\n",
    "\n",
    "print(sql)\n",
    "\n",
    "#Define cursor\n",
    "cursor = con.cursor()\n",
    "#Executa código SQL\n",
    "cursor.execute(sql)\n",
    "#Realiza commit\n",
    "con.commit()\n",
    "#Fecha a conexão\n",
    "con.close()"
   ]
  },
  {
   "cell_type": "code",
   "execution_count": 14,
   "metadata": {
    "ExecuteTime": {
     "end_time": "2020-12-17T22:50:28.263341Z",
     "start_time": "2020-12-17T22:50:28.248301Z"
    }
   },
   "outputs": [
    {
     "data": {
      "text/plain": [
       "[('MCDonalds', 5000, 4000, 201912), ('BurgerKing', 4000, 2800, 201912)]"
      ]
     },
     "execution_count": 14,
     "metadata": {},
     "output_type": "execute_result"
    }
   ],
   "source": [
    "resultado"
   ]
  },
  {
   "cell_type": "markdown",
   "metadata": {},
   "source": [
    "## Inserindo vários Dados de uma só vez"
   ]
  },
  {
   "cell_type": "code",
   "execution_count": 17,
   "metadata": {
    "ExecuteTime": {
     "end_time": "2020-12-17T22:52:13.653506Z",
     "start_time": "2020-12-17T22:52:10.883631Z"
    }
   },
   "outputs": [],
   "source": [
    "con = mysql.connector.connect(user=user,\n",
    "                              password=password,\n",
    "                              host=host,\n",
    "                              database=database)\n",
    "\n",
    "cursor = con.cursor()\n",
    "\n",
    "val =  [(\"Wendys\",\"6000\",\"4500\",\"202001\"),\n",
    "        (\"Patties\",\"900\",\"900\",\"202001\"),\n",
    "        ('Zebeleo', '5', '10000', '202002'),\n",
    "        ('Koburger', '3000', '2500', '202002')]\n",
    "\n",
    "\n",
    "sql = '''INSERT INTO empresas(estabelecimento, receita, custo, anomes) \n",
    "          VALUES (%s, %s, %s, %s)'''\n",
    "\n",
    "\n",
    "cursor.executemany(sql, val)\n",
    "    \n",
    "con.commit()\n",
    "con.close()"
   ]
  },
  {
   "cell_type": "code",
   "execution_count": 19,
   "metadata": {
    "ExecuteTime": {
     "end_time": "2020-12-17T22:53:10.581568Z",
     "start_time": "2020-12-17T22:53:08.174309Z"
    },
    "scrolled": true
   },
   "outputs": [
    {
     "name": "stdout",
     "output_type": "stream",
     "text": [
      "--------------\n",
      "('MCDonalds', 5000, 4000, 201912)\n",
      "Estabelecimento: MCDonalds\n",
      "Receita: 5000\n",
      "Custo: 4000\n",
      "Anomes: 201912\n",
      "--------------\n",
      "('BurgerKing', 4000, 2800, 201912)\n",
      "Estabelecimento: BurgerKing\n",
      "Receita: 4000\n",
      "Custo: 2800\n",
      "Anomes: 201912\n",
      "--------------\n",
      "('Wendys', 6000, 4500, 202001)\n",
      "Estabelecimento: Wendys\n",
      "Receita: 6000\n",
      "Custo: 4500\n",
      "Anomes: 202001\n",
      "--------------\n",
      "('Patties', 900, 900, 202001)\n",
      "Estabelecimento: Patties\n",
      "Receita: 900\n",
      "Custo: 900\n",
      "Anomes: 202001\n",
      "--------------\n",
      "('Zebeleo', 5, 10000, 202002)\n",
      "Estabelecimento: Zebeleo\n",
      "Receita: 5\n",
      "Custo: 10000\n",
      "Anomes: 202002\n",
      "--------------\n",
      "('Koburger', 3000, 2500, 202002)\n",
      "Estabelecimento: Koburger\n",
      "Receita: 3000\n",
      "Custo: 2500\n",
      "Anomes: 202002\n"
     ]
    }
   ],
   "source": [
    "con = mysql.connector.connect(user=user,\n",
    "                              password=password,\n",
    "                              host=host,\n",
    "                              database=database)\n",
    "cursor = con.cursor()\n",
    "\n",
    "#Query de para buscar todos os usarios\n",
    "sql = \"SELECT * FROM empresas\"\n",
    "cursor.execute(sql)\n",
    "#Pegando todos os valores retorno\n",
    "resultado = cursor.fetchall()\n",
    "#imprimindo item a item\n",
    "for linha in resultado:\n",
    "    print(\"--------------\")\n",
    "    print(linha)\n",
    "    print(\"Estabelecimento:\",linha[0])\n",
    "    print(\"Receita:\",linha[1])\n",
    "    print(\"Custo:\",linha[2])\n",
    "    print(\"Anomes:\",linha[3])\n",
    "\n",
    "con.close()"
   ]
  },
  {
   "cell_type": "code",
   "execution_count": 20,
   "metadata": {
    "ExecuteTime": {
     "end_time": "2020-12-17T22:56:05.030636Z",
     "start_time": "2020-12-17T22:56:05.011565Z"
    }
   },
   "outputs": [],
   "source": [
    "def select_table(user=user,\n",
    "                password=password,\n",
    "                host=host,\n",
    "                database=database,\n",
    "                table_name = 'empresas'):\n",
    "    \n",
    "    con = mysql.connector.connect(user=user,\n",
    "                                  password=password,\n",
    "                                  host=host,\n",
    "                                  database=database)\n",
    "    cursor = con.cursor()\n",
    "    sql = \"SELECT * FROM {}\".format(table_name)\n",
    "    \n",
    "    cursor.execute(sql)\n",
    "    resultado = cursor.fetchall()\n",
    "    con.close()\n",
    "    \n",
    "    return resultado, cursor"
   ]
  },
  {
   "cell_type": "code",
   "execution_count": 21,
   "metadata": {
    "ExecuteTime": {
     "end_time": "2020-12-17T22:58:11.971408Z",
     "start_time": "2020-12-17T22:58:11.960858Z"
    }
   },
   "outputs": [],
   "source": [
    "def input_data():\n",
    "    print('Nome da Empresa :')\n",
    "    nome = input()\n",
    "    print('Receita da Empresa :')\n",
    "    receita = input()\n",
    "    print('Custo da Empresa :')\n",
    "    custo = input()\n",
    "    print('Anomes :')\n",
    "    anomes = input()\n",
    "    \n",
    "    con = mysql.connector.connect(user=user,\n",
    "                              password=password,\n",
    "                              host=host,\n",
    "                         database=database)\n",
    "    \n",
    "    cursor = con.cursor()\n",
    "    \n",
    "    \n",
    "    query = f'''INSERT INTO empresas(estabelecimento,receita, custo, anomes) \n",
    "                    VALUES ('{nome.title()}','{receita}','{custo}','{anomes}')'''\n",
    "    \n",
    "    cursor.execute(query)\n",
    "    con.commit()\n",
    "    con.close()\n",
    "    return None"
   ]
  },
  {
   "cell_type": "markdown",
   "metadata": {},
   "source": [
    "**ARGS e KWARGS**\n",
    "\n",
    "Nesse ponto da aula, vocês haviam sugerido de utilizar o `args` para passar os parâmetros `user`, `password`, etc... na função `input_data` e consequentemente no `mysql.connector.connect`. Acontece que nesse caso, acredito que não seria a melhor forma, pois nós queremos garantir que os parâmetros sejam explicitamente definidos, alem de que utilizando o `args`, teríamos que verificar qual argumento se enquadraría em determinado parâmetro.\n",
    "\n",
    "Ter conhecimento do que eles fazem é bem válido. Deixo uns links explicando como eles podem ser utilizados e pra que servem:\n",
    "- https://medium.com/rafaeltardivo/python-entendendo-o-uso-de-args-e-kwargs-em-fun%C3%A7%C3%B5es-e-m%C3%A9todos-c8c2810e9dc8\n",
    "- https://www.geeksforgeeks.org/args-kwargs-python/\n",
    "- https://www.programiz.com/python-programming/args-and-kwargs"
   ]
  },
  {
   "cell_type": "code",
   "execution_count": 22,
   "metadata": {
    "ExecuteTime": {
     "end_time": "2020-12-17T22:58:51.532421Z",
     "start_time": "2020-12-17T22:58:17.110890Z"
    }
   },
   "outputs": [
    {
     "name": "stdout",
     "output_type": "stream",
     "text": [
      "Nome da Empresa :\n",
      "burguer lab\n",
      "Receita da Empresa :\n",
      "1000000\n",
      "Custo da Empresa :\n",
      "10000\n",
      "Anomes :\n",
      "201912\n"
     ]
    }
   ],
   "source": [
    "input_data()"
   ]
  },
  {
   "cell_type": "code",
   "execution_count": 23,
   "metadata": {
    "ExecuteTime": {
     "end_time": "2020-12-17T22:58:57.381151Z",
     "start_time": "2020-12-17T22:58:54.987028Z"
    }
   },
   "outputs": [],
   "source": [
    "resultado, cursor = select_table()"
   ]
  },
  {
   "cell_type": "code",
   "execution_count": 24,
   "metadata": {
    "ExecuteTime": {
     "end_time": "2020-12-17T22:59:01.457108Z",
     "start_time": "2020-12-17T22:59:01.442056Z"
    }
   },
   "outputs": [
    {
     "data": {
      "text/plain": [
       "[('MCDonalds', 5000, 4000, 201912),\n",
       " ('BurgerKing', 4000, 2800, 201912),\n",
       " ('Wendys', 6000, 4500, 202001),\n",
       " ('Patties', 900, 900, 202001),\n",
       " ('Zebeleo', 5, 10000, 202002),\n",
       " ('Koburger', 3000, 2500, 202002),\n",
       " ('burguer lab', 1000000, 10000, 201912)]"
      ]
     },
     "execution_count": 24,
     "metadata": {},
     "output_type": "execute_result"
    }
   ],
   "source": [
    "resultado"
   ]
  },
  {
   "cell_type": "code",
   "execution_count": 25,
   "metadata": {
    "ExecuteTime": {
     "end_time": "2020-12-17T23:00:11.514633Z",
     "start_time": "2020-12-17T23:00:11.502606Z"
    }
   },
   "outputs": [
    {
     "data": {
      "text/plain": [
       "[('estabelecimento', 254, None, None, None, None, 1, 0),\n",
       " ('receita', 3, None, None, None, None, 1, 0),\n",
       " ('custo', 3, None, None, None, None, 1, 0),\n",
       " ('anomes', 3, None, None, None, None, 1, 0)]"
      ]
     },
     "execution_count": 25,
     "metadata": {},
     "output_type": "execute_result"
    }
   ],
   "source": [
    "cursor.description"
   ]
  },
  {
   "cell_type": "code",
   "execution_count": 27,
   "metadata": {
    "ExecuteTime": {
     "end_time": "2020-12-17T23:00:27.961932Z",
     "start_time": "2020-12-17T23:00:27.953418Z"
    }
   },
   "outputs": [
    {
     "data": {
      "text/plain": [
       "['estabelecimento', 'receita', 'custo', 'anomes']"
      ]
     },
     "execution_count": 27,
     "metadata": {},
     "output_type": "execute_result"
    }
   ],
   "source": [
    "columns = [col[0] for col in cursor.description]\n",
    "columns"
   ]
  },
  {
   "cell_type": "code",
   "execution_count": 28,
   "metadata": {
    "ExecuteTime": {
     "end_time": "2020-12-17T23:00:49.287488Z",
     "start_time": "2020-12-17T23:00:49.261337Z"
    }
   },
   "outputs": [],
   "source": [
    "df_empresas = pd.DataFrame(resultado, columns=columns)"
   ]
  },
  {
   "cell_type": "code",
   "execution_count": 29,
   "metadata": {
    "ExecuteTime": {
     "end_time": "2020-12-17T23:00:51.143672Z",
     "start_time": "2020-12-17T23:00:51.119673Z"
    }
   },
   "outputs": [
    {
     "data": {
      "text/html": [
       "<div>\n",
       "<style scoped>\n",
       "    .dataframe tbody tr th:only-of-type {\n",
       "        vertical-align: middle;\n",
       "    }\n",
       "\n",
       "    .dataframe tbody tr th {\n",
       "        vertical-align: top;\n",
       "    }\n",
       "\n",
       "    .dataframe thead th {\n",
       "        text-align: right;\n",
       "    }\n",
       "</style>\n",
       "<table border=\"1\" class=\"dataframe\">\n",
       "  <thead>\n",
       "    <tr style=\"text-align: right;\">\n",
       "      <th></th>\n",
       "      <th>estabelecimento</th>\n",
       "      <th>receita</th>\n",
       "      <th>custo</th>\n",
       "      <th>anomes</th>\n",
       "    </tr>\n",
       "  </thead>\n",
       "  <tbody>\n",
       "    <tr>\n",
       "      <th>0</th>\n",
       "      <td>MCDonalds</td>\n",
       "      <td>5000</td>\n",
       "      <td>4000</td>\n",
       "      <td>201912</td>\n",
       "    </tr>\n",
       "    <tr>\n",
       "      <th>1</th>\n",
       "      <td>BurgerKing</td>\n",
       "      <td>4000</td>\n",
       "      <td>2800</td>\n",
       "      <td>201912</td>\n",
       "    </tr>\n",
       "    <tr>\n",
       "      <th>2</th>\n",
       "      <td>Wendys</td>\n",
       "      <td>6000</td>\n",
       "      <td>4500</td>\n",
       "      <td>202001</td>\n",
       "    </tr>\n",
       "    <tr>\n",
       "      <th>3</th>\n",
       "      <td>Patties</td>\n",
       "      <td>900</td>\n",
       "      <td>900</td>\n",
       "      <td>202001</td>\n",
       "    </tr>\n",
       "    <tr>\n",
       "      <th>4</th>\n",
       "      <td>Zebeleo</td>\n",
       "      <td>5</td>\n",
       "      <td>10000</td>\n",
       "      <td>202002</td>\n",
       "    </tr>\n",
       "  </tbody>\n",
       "</table>\n",
       "</div>"
      ],
      "text/plain": [
       "  estabelecimento  receita  custo  anomes\n",
       "0       MCDonalds     5000   4000  201912\n",
       "1      BurgerKing     4000   2800  201912\n",
       "2          Wendys     6000   4500  202001\n",
       "3         Patties      900    900  202001\n",
       "4         Zebeleo        5  10000  202002"
      ]
     },
     "execution_count": 29,
     "metadata": {},
     "output_type": "execute_result"
    }
   ],
   "source": [
    "df_empresas.head()"
   ]
  },
  {
   "cell_type": "code",
   "execution_count": 30,
   "metadata": {
    "ExecuteTime": {
     "end_time": "2020-12-17T23:01:35.670775Z",
     "start_time": "2020-12-17T23:01:35.661642Z"
    }
   },
   "outputs": [
    {
     "data": {
      "text/plain": [
       "<mysql.connector.connection.MySQLConnection at 0x1ff0a7f4730>"
      ]
     },
     "execution_count": 30,
     "metadata": {},
     "output_type": "execute_result"
    }
   ],
   "source": []
  },
  {
   "cell_type": "code",
   "execution_count": 35,
   "metadata": {
    "ExecuteTime": {
     "end_time": "2020-12-17T23:03:53.766844Z",
     "start_time": "2020-12-17T23:03:53.750815Z"
    }
   },
   "outputs": [
    {
     "data": {
      "text/plain": [
       "'SELECT * FROM empresas'"
      ]
     },
     "execution_count": 35,
     "metadata": {},
     "output_type": "execute_result"
    }
   ],
   "source": [
    "sql"
   ]
  },
  {
   "cell_type": "code",
   "execution_count": 37,
   "metadata": {
    "ExecuteTime": {
     "end_time": "2020-12-17T23:06:19.685488Z",
     "start_time": "2020-12-17T23:06:09.204511Z"
    }
   },
   "outputs": [
    {
     "data": {
      "text/html": [
       "<div>\n",
       "<style scoped>\n",
       "    .dataframe tbody tr th:only-of-type {\n",
       "        vertical-align: middle;\n",
       "    }\n",
       "\n",
       "    .dataframe tbody tr th {\n",
       "        vertical-align: top;\n",
       "    }\n",
       "\n",
       "    .dataframe thead th {\n",
       "        text-align: right;\n",
       "    }\n",
       "</style>\n",
       "<table border=\"1\" class=\"dataframe\">\n",
       "  <thead>\n",
       "    <tr style=\"text-align: right;\">\n",
       "      <th></th>\n",
       "      <th>estabelecimento</th>\n",
       "      <th>receita</th>\n",
       "      <th>custo</th>\n",
       "      <th>anomes</th>\n",
       "    </tr>\n",
       "  </thead>\n",
       "  <tbody>\n",
       "    <tr>\n",
       "      <th>0</th>\n",
       "      <td>MCDonalds</td>\n",
       "      <td>5000</td>\n",
       "      <td>4000</td>\n",
       "      <td>201912</td>\n",
       "    </tr>\n",
       "    <tr>\n",
       "      <th>1</th>\n",
       "      <td>BurgerKing</td>\n",
       "      <td>4000</td>\n",
       "      <td>2800</td>\n",
       "      <td>201912</td>\n",
       "    </tr>\n",
       "    <tr>\n",
       "      <th>2</th>\n",
       "      <td>Wendys</td>\n",
       "      <td>6000</td>\n",
       "      <td>4500</td>\n",
       "      <td>202001</td>\n",
       "    </tr>\n",
       "    <tr>\n",
       "      <th>3</th>\n",
       "      <td>Patties</td>\n",
       "      <td>900</td>\n",
       "      <td>900</td>\n",
       "      <td>202001</td>\n",
       "    </tr>\n",
       "    <tr>\n",
       "      <th>4</th>\n",
       "      <td>Zebeleo</td>\n",
       "      <td>5</td>\n",
       "      <td>10000</td>\n",
       "      <td>202002</td>\n",
       "    </tr>\n",
       "    <tr>\n",
       "      <th>5</th>\n",
       "      <td>Koburger</td>\n",
       "      <td>3000</td>\n",
       "      <td>2500</td>\n",
       "      <td>202002</td>\n",
       "    </tr>\n",
       "    <tr>\n",
       "      <th>6</th>\n",
       "      <td>burguer lab</td>\n",
       "      <td>1000000</td>\n",
       "      <td>10000</td>\n",
       "      <td>201912</td>\n",
       "    </tr>\n",
       "  </tbody>\n",
       "</table>\n",
       "</div>"
      ],
      "text/plain": [
       "  estabelecimento  receita  custo  anomes\n",
       "0       MCDonalds     5000   4000  201912\n",
       "1      BurgerKing     4000   2800  201912\n",
       "2          Wendys     6000   4500  202001\n",
       "3         Patties      900    900  202001\n",
       "4         Zebeleo        5  10000  202002\n",
       "5        Koburger     3000   2500  202002\n",
       "6     burguer lab  1000000  10000  201912"
      ]
     },
     "execution_count": 37,
     "metadata": {},
     "output_type": "execute_result"
    }
   ],
   "source": [
    " con = mysql.connector.connect(user=user,\n",
    "                              password=password,\n",
    "                              host=host,\n",
    "                         database=database)\n",
    "\n",
    "pd.read_sql_query(sql, con)"
   ]
  },
  {
   "cell_type": "markdown",
   "metadata": {},
   "source": [
    "**Lendo do pandas de forma alternativa**"
   ]
  },
  {
   "cell_type": "code",
   "execution_count": 38,
   "metadata": {
    "ExecuteTime": {
     "end_time": "2020-12-17T23:07:21.281403Z",
     "start_time": "2020-12-17T23:07:18.339285Z"
    }
   },
   "outputs": [],
   "source": [
    "con = mysql.connector.connect(user=user,\n",
    "                              password=password,\n",
    "                              host=host,\n",
    "                              database=database)\n",
    "cursor = con.cursor()\n",
    "\n",
    "#usando o read_sql_query\n",
    "df = pd.read_sql_query(\"SELECT * from empresas\", con)\n",
    "\n",
    "con.close()"
   ]
  },
  {
   "cell_type": "code",
   "execution_count": 39,
   "metadata": {
    "ExecuteTime": {
     "end_time": "2020-12-17T23:07:25.240226Z",
     "start_time": "2020-12-17T23:07:25.224219Z"
    }
   },
   "outputs": [
    {
     "data": {
      "text/html": [
       "<div>\n",
       "<style scoped>\n",
       "    .dataframe tbody tr th:only-of-type {\n",
       "        vertical-align: middle;\n",
       "    }\n",
       "\n",
       "    .dataframe tbody tr th {\n",
       "        vertical-align: top;\n",
       "    }\n",
       "\n",
       "    .dataframe thead th {\n",
       "        text-align: right;\n",
       "    }\n",
       "</style>\n",
       "<table border=\"1\" class=\"dataframe\">\n",
       "  <thead>\n",
       "    <tr style=\"text-align: right;\">\n",
       "      <th></th>\n",
       "      <th>estabelecimento</th>\n",
       "      <th>receita</th>\n",
       "      <th>custo</th>\n",
       "      <th>anomes</th>\n",
       "    </tr>\n",
       "  </thead>\n",
       "  <tbody>\n",
       "    <tr>\n",
       "      <th>0</th>\n",
       "      <td>MCDonalds</td>\n",
       "      <td>5000</td>\n",
       "      <td>4000</td>\n",
       "      <td>201912</td>\n",
       "    </tr>\n",
       "    <tr>\n",
       "      <th>1</th>\n",
       "      <td>BurgerKing</td>\n",
       "      <td>4000</td>\n",
       "      <td>2800</td>\n",
       "      <td>201912</td>\n",
       "    </tr>\n",
       "    <tr>\n",
       "      <th>2</th>\n",
       "      <td>Wendys</td>\n",
       "      <td>6000</td>\n",
       "      <td>4500</td>\n",
       "      <td>202001</td>\n",
       "    </tr>\n",
       "    <tr>\n",
       "      <th>3</th>\n",
       "      <td>Patties</td>\n",
       "      <td>900</td>\n",
       "      <td>900</td>\n",
       "      <td>202001</td>\n",
       "    </tr>\n",
       "    <tr>\n",
       "      <th>4</th>\n",
       "      <td>Zebeleo</td>\n",
       "      <td>5</td>\n",
       "      <td>10000</td>\n",
       "      <td>202002</td>\n",
       "    </tr>\n",
       "  </tbody>\n",
       "</table>\n",
       "</div>"
      ],
      "text/plain": [
       "  estabelecimento  receita  custo  anomes\n",
       "0       MCDonalds     5000   4000  201912\n",
       "1      BurgerKing     4000   2800  201912\n",
       "2          Wendys     6000   4500  202001\n",
       "3         Patties      900    900  202001\n",
       "4         Zebeleo        5  10000  202002"
      ]
     },
     "execution_count": 39,
     "metadata": {},
     "output_type": "execute_result"
    }
   ],
   "source": [
    "df.head()"
   ]
  },
  {
   "cell_type": "markdown",
   "metadata": {},
   "source": [
    "Abrir conexao\n",
    "definir um cursor\n",
    "Executar a partir do cursor\n",
    "commitar\n",
    "fechar conexao\n",
    "\n",
    "con -> cursor -> cursor.execute() -> con.commit() -> con.close()"
   ]
  },
  {
   "cell_type": "code",
   "execution_count": 46,
   "metadata": {
    "ExecuteTime": {
     "end_time": "2020-12-17T23:13:37.413856Z",
     "start_time": "2020-12-17T23:13:20.873568Z"
    }
   },
   "outputs": [
    {
     "name": "stdout",
     "output_type": "stream",
     "text": [
      "[('MCDonalds',)]\n"
     ]
    }
   ],
   "source": [
    "con = mysql.connector.connect(user = user, password=password, host=host, database = database)\n",
    "\n",
    "cursor = con.cursor()\n",
    "\n",
    "sql = \"select estabelecimento from empresas limit 1\"\n",
    "\n",
    "cursor.execute(sql)\n",
    "resultado = cursor.fetchall()\n",
    "\n",
    "print(resultado)\n",
    "con.close()"
   ]
  },
  {
   "cell_type": "code",
   "execution_count": 55,
   "metadata": {
    "ExecuteTime": {
     "end_time": "2020-12-17T23:18:17.166756Z",
     "start_time": "2020-12-17T23:17:52.638480Z"
    }
   },
   "outputs": [
    {
     "name": "stdout",
     "output_type": "stream",
     "text": [
      "--------------\n",
      "Mequi_1000\n",
      "--------------\n",
      "BurgerKing\n",
      "--------------\n",
      "Wendys\n",
      "--------------\n",
      "Patties\n",
      "--------------\n",
      "Zebeleo\n",
      "--------------\n",
      "Koburger\n"
     ]
    }
   ],
   "source": [
    "#Propor exercicio para ler apenas o primeiro nome\n",
    "#Lendo apenas o nome\n",
    "\n",
    "con = mysql.connector.connect(user=user,\n",
    "                              password=password,\n",
    "                              host=host,\n",
    "                              database=database)\n",
    "cursor = con.cursor()\n",
    "\n",
    "sql = \"SELECT estabelecimento FROM empresas\"\n",
    "cursor.execute(sql)\n",
    "resultado = cursor.fetchall()\n",
    "for linha in resultado:\n",
    "    print(\"--------------\")\n",
    "    print(linha[0])\n",
    "con.close()"
   ]
  },
  {
   "cell_type": "markdown",
   "metadata": {},
   "source": [
    "### Deletando dados a respeito de uma Tabela"
   ]
  },
  {
   "cell_type": "code",
   "execution_count": 52,
   "metadata": {
    "ExecuteTime": {
     "end_time": "2020-12-17T23:16:40.122717Z",
     "start_time": "2020-12-17T23:16:37.317347Z"
    }
   },
   "outputs": [],
   "source": [
    "con = mysql.connector.connect(user=user,\n",
    "                              password=password,\n",
    "                              host=host,\n",
    "                              database=database)\n",
    "cursor = con.cursor()\n",
    "\n",
    "sql = \"DELETE FROM empresas Where estabelecimento = 'burguer lab'\"\n",
    "cursor.execute(sql)\n",
    "\n",
    "con.commit()\n",
    "con.close()"
   ]
  },
  {
   "cell_type": "markdown",
   "metadata": {},
   "source": [
    "### Atualizando Dados a respeito de uma tabela"
   ]
  },
  {
   "cell_type": "code",
   "execution_count": 54,
   "metadata": {
    "ExecuteTime": {
     "end_time": "2020-12-17T23:17:49.988011Z",
     "start_time": "2020-12-17T23:17:47.244093Z"
    }
   },
   "outputs": [],
   "source": [
    "con = mysql.connector.connect(user=user,\n",
    "                              password=password,\n",
    "                              host=host,\n",
    "                              database=database)\n",
    "cursor = con.cursor()\n",
    "\n",
    "sql = \"UPDATE empresas SET estabelecimento = 'Mequi_1000' Where estabelecimento = 'MCDonalds'\"\n",
    "cursor.execute(sql)\n",
    "\n",
    "con.commit()\n",
    "con.close()"
   ]
  },
  {
   "cell_type": "markdown",
   "metadata": {},
   "source": [
    "## Comandos SQL"
   ]
  },
  {
   "cell_type": "markdown",
   "metadata": {},
   "source": [
    "### Where"
   ]
  },
  {
   "cell_type": "code",
   "execution_count": 57,
   "metadata": {
    "ExecuteTime": {
     "end_time": "2020-12-17T23:35:00.067904Z",
     "start_time": "2020-12-17T23:34:53.807901Z"
    }
   },
   "outputs": [
    {
     "name": "stdout",
     "output_type": "stream",
     "text": [
      "[('Mequi_1000', 5000, 4000, 201912), ('BurgerKing', 4000, 2800, 201912), ('Wendys', 6000, 4500, 202001), ('Koburger', 3000, 2500, 202002)]\n"
     ]
    }
   ],
   "source": [
    "con = mysql.connector.connect(user=user, \n",
    "                              password=password,\n",
    "                              host=host,\n",
    "                              database=database)\n",
    "cursor = con.cursor()\n",
    "\n",
    "sql = '''SELECT *\n",
    "         FROM empresas\n",
    "         WHERE receita > 1000'''\n",
    "\n",
    "cursor.execute(sql)\n",
    "resultado = cursor.fetchall()\n",
    "con.close()\n",
    "print(resultado) "
   ]
  },
  {
   "cell_type": "code",
   "execution_count": 62,
   "metadata": {
    "ExecuteTime": {
     "end_time": "2020-12-17T23:38:55.653364Z",
     "start_time": "2020-12-17T23:38:45.156554Z"
    }
   },
   "outputs": [
    {
     "name": "stdout",
     "output_type": "stream",
     "text": [
      "[(Decimal('18905'),)]\n"
     ]
    }
   ],
   "source": [
    "con = mysql.connector.connect(user=user, \n",
    "                              password=password,\n",
    "                              host=host,\n",
    "                              database=database)\n",
    "cursor = con.cursor()\n",
    "\n",
    "sql = '''select SUM(receita) from empresas'''\n",
    "\n",
    "cursor.execute(sql)\n",
    "resultado = cursor.fetchall()\n",
    "con.close()\n",
    "print(resultado) "
   ]
  },
  {
   "cell_type": "markdown",
   "metadata": {},
   "source": [
    "### Group by"
   ]
  },
  {
   "cell_type": "code",
   "execution_count": 64,
   "metadata": {
    "ExecuteTime": {
     "end_time": "2020-12-17T23:40:23.264764Z",
     "start_time": "2020-12-17T23:39:52.755732Z"
    }
   },
   "outputs": [
    {
     "name": "stdout",
     "output_type": "stream",
     "text": [
      "[(201912, Decimal('9000')), (202001, Decimal('6900')), (202002, Decimal('3005'))]\n"
     ]
    }
   ],
   "source": [
    "con = mysql.connector.connect(user=user, \n",
    "                              password=password,\n",
    "                              host=host,\n",
    "                              database=database)\n",
    "cursor = con.cursor()\n",
    "\n",
    "sql = '''SELECT anomes, SUM(receita) as soma_receita\n",
    "         FROM empresas\n",
    "         GROUP BY anomes'''\n",
    "\n",
    "cursor.execute(sql)\n",
    "resultado = cursor.fetchall()\n",
    "con.close()\n",
    "print(resultado)"
   ]
  },
  {
   "cell_type": "code",
   "execution_count": 74,
   "metadata": {
    "ExecuteTime": {
     "end_time": "2020-12-17T23:43:10.953682Z",
     "start_time": "2020-12-17T23:43:10.946152Z"
    }
   },
   "outputs": [],
   "source": [
    "columns = [res[0] for res in cursor.description]"
   ]
  },
  {
   "cell_type": "code",
   "execution_count": 75,
   "metadata": {
    "ExecuteTime": {
     "end_time": "2020-12-17T23:43:24.011654Z",
     "start_time": "2020-12-17T23:43:23.997653Z"
    }
   },
   "outputs": [
    {
     "data": {
      "text/html": [
       "<div>\n",
       "<style scoped>\n",
       "    .dataframe tbody tr th:only-of-type {\n",
       "        vertical-align: middle;\n",
       "    }\n",
       "\n",
       "    .dataframe tbody tr th {\n",
       "        vertical-align: top;\n",
       "    }\n",
       "\n",
       "    .dataframe thead th {\n",
       "        text-align: right;\n",
       "    }\n",
       "</style>\n",
       "<table border=\"1\" class=\"dataframe\">\n",
       "  <thead>\n",
       "    <tr style=\"text-align: right;\">\n",
       "      <th></th>\n",
       "      <th>anomes</th>\n",
       "      <th>soma_receita</th>\n",
       "    </tr>\n",
       "  </thead>\n",
       "  <tbody>\n",
       "    <tr>\n",
       "      <th>0</th>\n",
       "      <td>201912</td>\n",
       "      <td>9000</td>\n",
       "    </tr>\n",
       "    <tr>\n",
       "      <th>1</th>\n",
       "      <td>202001</td>\n",
       "      <td>6900</td>\n",
       "    </tr>\n",
       "    <tr>\n",
       "      <th>2</th>\n",
       "      <td>202002</td>\n",
       "      <td>3005</td>\n",
       "    </tr>\n",
       "  </tbody>\n",
       "</table>\n",
       "</div>"
      ],
      "text/plain": [
       "   anomes soma_receita\n",
       "0  201912         9000\n",
       "1  202001         6900\n",
       "2  202002         3005"
      ]
     },
     "execution_count": 75,
     "metadata": {},
     "output_type": "execute_result"
    }
   ],
   "source": [
    "pd.DataFrame(resultado, columns=columns)"
   ]
  },
  {
   "cell_type": "markdown",
   "metadata": {},
   "source": [
    "### Order by"
   ]
  },
  {
   "cell_type": "code",
   "execution_count": 77,
   "metadata": {
    "ExecuteTime": {
     "end_time": "2020-12-17T23:45:36.998360Z",
     "start_time": "2020-12-17T23:45:20.488672Z"
    }
   },
   "outputs": [
    {
     "data": {
      "text/html": [
       "<div>\n",
       "<style scoped>\n",
       "    .dataframe tbody tr th:only-of-type {\n",
       "        vertical-align: middle;\n",
       "    }\n",
       "\n",
       "    .dataframe tbody tr th {\n",
       "        vertical-align: top;\n",
       "    }\n",
       "\n",
       "    .dataframe thead th {\n",
       "        text-align: right;\n",
       "    }\n",
       "</style>\n",
       "<table border=\"1\" class=\"dataframe\">\n",
       "  <thead>\n",
       "    <tr style=\"text-align: right;\">\n",
       "      <th></th>\n",
       "      <th>anomes</th>\n",
       "      <th>soma_receita</th>\n",
       "    </tr>\n",
       "  </thead>\n",
       "  <tbody>\n",
       "    <tr>\n",
       "      <th>0</th>\n",
       "      <td>202002</td>\n",
       "      <td>3005</td>\n",
       "    </tr>\n",
       "    <tr>\n",
       "      <th>1</th>\n",
       "      <td>202001</td>\n",
       "      <td>6900</td>\n",
       "    </tr>\n",
       "    <tr>\n",
       "      <th>2</th>\n",
       "      <td>201912</td>\n",
       "      <td>9000</td>\n",
       "    </tr>\n",
       "  </tbody>\n",
       "</table>\n",
       "</div>"
      ],
      "text/plain": [
       "   anomes soma_receita\n",
       "0  202002         3005\n",
       "1  202001         6900\n",
       "2  201912         9000"
      ]
     },
     "execution_count": 77,
     "metadata": {},
     "output_type": "execute_result"
    }
   ],
   "source": [
    "con = mysql.connector.connect(user=user, \n",
    "                              password=password,\n",
    "                              host=host,\n",
    "                              database=database)\n",
    "cursor = con.cursor()\n",
    "\n",
    "sql = '''SELECT anomes, SUM(receita) as soma_receita\n",
    "         FROM empresas\n",
    "         GROUP BY anomes\n",
    "         ORDER BY anomes DESC'''\n",
    "\n",
    "cursor.execute(sql)\n",
    "resultado = cursor.fetchall()\n",
    "con.close()\n",
    "\n",
    "pd.DataFrame(resultado, columns=[res[0] for res in cursor.description])"
   ]
  },
  {
   "cell_type": "markdown",
   "metadata": {},
   "source": [
    "### Having"
   ]
  },
  {
   "cell_type": "code",
   "execution_count": 81,
   "metadata": {
    "ExecuteTime": {
     "end_time": "2020-12-17T23:47:54.879988Z",
     "start_time": "2020-12-17T23:47:52.467145Z"
    }
   },
   "outputs": [
    {
     "data": {
      "text/html": [
       "<div>\n",
       "<style scoped>\n",
       "    .dataframe tbody tr th:only-of-type {\n",
       "        vertical-align: middle;\n",
       "    }\n",
       "\n",
       "    .dataframe tbody tr th {\n",
       "        vertical-align: top;\n",
       "    }\n",
       "\n",
       "    .dataframe thead th {\n",
       "        text-align: right;\n",
       "    }\n",
       "</style>\n",
       "<table border=\"1\" class=\"dataframe\">\n",
       "  <thead>\n",
       "    <tr style=\"text-align: right;\">\n",
       "      <th></th>\n",
       "      <th>anomes</th>\n",
       "      <th>soma_receita</th>\n",
       "    </tr>\n",
       "  </thead>\n",
       "  <tbody>\n",
       "    <tr>\n",
       "      <th>0</th>\n",
       "      <td>201912</td>\n",
       "      <td>9000</td>\n",
       "    </tr>\n",
       "    <tr>\n",
       "      <th>1</th>\n",
       "      <td>202001</td>\n",
       "      <td>6900</td>\n",
       "    </tr>\n",
       "  </tbody>\n",
       "</table>\n",
       "</div>"
      ],
      "text/plain": [
       "   anomes soma_receita\n",
       "0  201912         9000\n",
       "1  202001         6900"
      ]
     },
     "execution_count": 81,
     "metadata": {},
     "output_type": "execute_result"
    }
   ],
   "source": [
    "con = mysql.connector.connect(user=user, \n",
    "                              password=password,\n",
    "                              host=host,\n",
    "                              database=database)\n",
    "cursor = con.cursor()\n",
    "\n",
    "sql = '''SELECT anomes, SUM(receita) as soma_receita\n",
    "         FROM empresas\n",
    "         GROUP BY anomes\n",
    "         HAVING soma_receita > 6000\n",
    "         '''\n",
    "\n",
    "cursor.execute(sql)\n",
    "resultado = cursor.fetchall()\n",
    "con.close()\n",
    "\n",
    "pd.DataFrame(resultado, columns=[res[0] for res in cursor.description])"
   ]
  },
  {
   "cell_type": "markdown",
   "metadata": {},
   "source": [
    "### POSTGRES"
   ]
  },
  {
   "cell_type": "code",
   "execution_count": 86,
   "metadata": {
    "ExecuteTime": {
     "end_time": "2020-12-17T23:52:35.041659Z",
     "start_time": "2020-12-17T23:52:31.424574Z"
    }
   },
   "outputs": [
    {
     "name": "stdout",
     "output_type": "stream",
     "text": [
      "Requirement already satisfied: psycopg2 in c:\\users\\lucas\\anaconda3\\lib\\site-packages (2.8.6)\n"
     ]
    }
   ],
   "source": [
    "!pip install psycopg2"
   ]
  },
  {
   "cell_type": "code",
   "execution_count": 84,
   "metadata": {
    "ExecuteTime": {
     "end_time": "2020-12-17T23:52:17.575582Z",
     "start_time": "2020-12-17T23:52:17.529578Z"
    }
   },
   "outputs": [],
   "source": [
    "import os\n",
    "import psycopg2\n",
    "import psycopg2.extras\n",
    "import sys\n",
    "import pandas as pd\n",
    "\n",
    "def connect_db():\n",
    "    db_url='lets-coders.cwwx6veimvvm.us-east-1.rds.amazonaws.com'\n",
    "    db_name='dvd'\n",
    "    db_user='postgres'\n",
    "    db_password='letscodeds652'\n",
    "    \n",
    "    conn = psycopg2.connect(host=db_url, port = 5432, database=db_name, user=db_user, password=db_password)\n",
    "    return conn\n",
    "\n",
    "def execute_query(db, query_string):\n",
    "    # Create a cursor object\n",
    "    cur = db.cursor(cursor_factory=psycopg2.extras.DictCursor)\n",
    "    \n",
    "    # A sample query of all data from the \"vendors\" table in the \"suppliers\" database\n",
    "    cur.execute(query_string)\n",
    "    return cur"
   ]
  },
  {
   "cell_type": "code",
   "execution_count": 99,
   "metadata": {
    "ExecuteTime": {
     "end_time": "2020-12-18T00:11:29.424510Z",
     "start_time": "2020-12-18T00:11:28.134290Z"
    }
   },
   "outputs": [
    {
     "data": {
      "text/html": [
       "<div>\n",
       "<style scoped>\n",
       "    .dataframe tbody tr th:only-of-type {\n",
       "        vertical-align: middle;\n",
       "    }\n",
       "\n",
       "    .dataframe tbody tr th {\n",
       "        vertical-align: top;\n",
       "    }\n",
       "\n",
       "    .dataframe thead th {\n",
       "        text-align: right;\n",
       "    }\n",
       "</style>\n",
       "<table border=\"1\" class=\"dataframe\">\n",
       "  <thead>\n",
       "    <tr style=\"text-align: right;\">\n",
       "      <th></th>\n",
       "      <th>title</th>\n",
       "      <th>category_name</th>\n",
       "    </tr>\n",
       "  </thead>\n",
       "  <tbody>\n",
       "    <tr>\n",
       "      <th>0</th>\n",
       "      <td>Academy Dinosaur</td>\n",
       "      <td>Documentary</td>\n",
       "    </tr>\n",
       "    <tr>\n",
       "      <th>1</th>\n",
       "      <td>Ace Goldfinger</td>\n",
       "      <td>Horror</td>\n",
       "    </tr>\n",
       "    <tr>\n",
       "      <th>2</th>\n",
       "      <td>Adaptation Holes</td>\n",
       "      <td>Documentary</td>\n",
       "    </tr>\n",
       "    <tr>\n",
       "      <th>3</th>\n",
       "      <td>Affair Prejudice</td>\n",
       "      <td>Horror</td>\n",
       "    </tr>\n",
       "    <tr>\n",
       "      <th>4</th>\n",
       "      <td>African Egg</td>\n",
       "      <td>Family</td>\n",
       "    </tr>\n",
       "    <tr>\n",
       "      <th>...</th>\n",
       "      <td>...</td>\n",
       "      <td>...</td>\n",
       "    </tr>\n",
       "    <tr>\n",
       "      <th>995</th>\n",
       "      <td>Young Language</td>\n",
       "      <td>Documentary</td>\n",
       "    </tr>\n",
       "    <tr>\n",
       "      <th>996</th>\n",
       "      <td>Youth Kick</td>\n",
       "      <td>Music</td>\n",
       "    </tr>\n",
       "    <tr>\n",
       "      <th>997</th>\n",
       "      <td>Zhivago Core</td>\n",
       "      <td>Horror</td>\n",
       "    </tr>\n",
       "    <tr>\n",
       "      <th>998</th>\n",
       "      <td>Zoolander Fiction</td>\n",
       "      <td>Children</td>\n",
       "    </tr>\n",
       "    <tr>\n",
       "      <th>999</th>\n",
       "      <td>Zorro Ark</td>\n",
       "      <td>Comedy</td>\n",
       "    </tr>\n",
       "  </tbody>\n",
       "</table>\n",
       "<p>1000 rows × 2 columns</p>\n",
       "</div>"
      ],
      "text/plain": [
       "                 title category_name\n",
       "0     Academy Dinosaur   Documentary\n",
       "1       Ace Goldfinger        Horror\n",
       "2     Adaptation Holes   Documentary\n",
       "3     Affair Prejudice        Horror\n",
       "4          African Egg        Family\n",
       "..                 ...           ...\n",
       "995     Young Language   Documentary\n",
       "996         Youth Kick         Music\n",
       "997       Zhivago Core        Horror\n",
       "998  Zoolander Fiction      Children\n",
       "999          Zorro Ark        Comedy\n",
       "\n",
       "[1000 rows x 2 columns]"
      ]
     },
     "execution_count": 99,
     "metadata": {},
     "output_type": "execute_result"
    }
   ],
   "source": [
    "query = '''\n",
    "select film.title, category.name as category_name from film \n",
    "left join film_category ON film.film_id = film_category.film_id \n",
    "left join category ON film_category.category_id = category.category_id\n",
    "'''\n",
    "\n",
    "db = connect_db()\n",
    "\n",
    "cur = execute_query(db, query)\n",
    "\n",
    "# print(cur.fetchall())\n",
    "\n",
    "df = pd.DataFrame(cur.fetchall(), columns=[res[0] for res in cur.description])\n",
    "cur.close()\n",
    "db.close()\n",
    "df"
   ]
  },
  {
   "cell_type": "code",
   "execution_count": 101,
   "metadata": {
    "ExecuteTime": {
     "end_time": "2020-12-18T00:12:18.442069Z",
     "start_time": "2020-12-18T00:12:17.180130Z"
    }
   },
   "outputs": [
    {
     "data": {
      "text/html": [
       "<div>\n",
       "<style scoped>\n",
       "    .dataframe tbody tr th:only-of-type {\n",
       "        vertical-align: middle;\n",
       "    }\n",
       "\n",
       "    .dataframe tbody tr th {\n",
       "        vertical-align: top;\n",
       "    }\n",
       "\n",
       "    .dataframe thead th {\n",
       "        text-align: right;\n",
       "    }\n",
       "</style>\n",
       "<table border=\"1\" class=\"dataframe\">\n",
       "  <thead>\n",
       "    <tr style=\"text-align: right;\">\n",
       "      <th></th>\n",
       "      <th>title</th>\n",
       "      <th>category_name</th>\n",
       "    </tr>\n",
       "  </thead>\n",
       "  <tbody>\n",
       "    <tr>\n",
       "      <th>0</th>\n",
       "      <td>Academy Dinosaur</td>\n",
       "      <td>Documentary</td>\n",
       "    </tr>\n",
       "    <tr>\n",
       "      <th>1</th>\n",
       "      <td>Ace Goldfinger</td>\n",
       "      <td>Horror</td>\n",
       "    </tr>\n",
       "    <tr>\n",
       "      <th>2</th>\n",
       "      <td>Adaptation Holes</td>\n",
       "      <td>Documentary</td>\n",
       "    </tr>\n",
       "    <tr>\n",
       "      <th>3</th>\n",
       "      <td>Affair Prejudice</td>\n",
       "      <td>Horror</td>\n",
       "    </tr>\n",
       "    <tr>\n",
       "      <th>4</th>\n",
       "      <td>African Egg</td>\n",
       "      <td>Family</td>\n",
       "    </tr>\n",
       "    <tr>\n",
       "      <th>...</th>\n",
       "      <td>...</td>\n",
       "      <td>...</td>\n",
       "    </tr>\n",
       "    <tr>\n",
       "      <th>995</th>\n",
       "      <td>Young Language</td>\n",
       "      <td>Documentary</td>\n",
       "    </tr>\n",
       "    <tr>\n",
       "      <th>996</th>\n",
       "      <td>Youth Kick</td>\n",
       "      <td>Music</td>\n",
       "    </tr>\n",
       "    <tr>\n",
       "      <th>997</th>\n",
       "      <td>Zhivago Core</td>\n",
       "      <td>Horror</td>\n",
       "    </tr>\n",
       "    <tr>\n",
       "      <th>998</th>\n",
       "      <td>Zoolander Fiction</td>\n",
       "      <td>Children</td>\n",
       "    </tr>\n",
       "    <tr>\n",
       "      <th>999</th>\n",
       "      <td>Zorro Ark</td>\n",
       "      <td>Comedy</td>\n",
       "    </tr>\n",
       "  </tbody>\n",
       "</table>\n",
       "<p>1000 rows × 2 columns</p>\n",
       "</div>"
      ],
      "text/plain": [
       "                 title category_name\n",
       "0     Academy Dinosaur   Documentary\n",
       "1       Ace Goldfinger        Horror\n",
       "2     Adaptation Holes   Documentary\n",
       "3     Affair Prejudice        Horror\n",
       "4          African Egg        Family\n",
       "..                 ...           ...\n",
       "995     Young Language   Documentary\n",
       "996         Youth Kick         Music\n",
       "997       Zhivago Core        Horror\n",
       "998  Zoolander Fiction      Children\n",
       "999          Zorro Ark        Comedy\n",
       "\n",
       "[1000 rows x 2 columns]"
      ]
     },
     "execution_count": 101,
     "metadata": {},
     "output_type": "execute_result"
    }
   ],
   "source": [
    "db = connect_db()\n",
    "\n",
    "df = pd.read_sql_query(query, db)\n",
    "\n",
    "db.close()\n",
    "df"
   ]
  },
  {
   "cell_type": "code",
   "execution_count": 97,
   "metadata": {
    "ExecuteTime": {
     "end_time": "2020-12-18T00:11:12.694143Z",
     "start_time": "2020-12-18T00:11:12.682628Z"
    }
   },
   "outputs": [],
   "source": []
  }
 ],
 "metadata": {
  "hide_input": false,
  "kernelspec": {
   "display_name": "Python 3",
   "language": "python",
   "name": "python3"
  },
  "language_info": {
   "codemirror_mode": {
    "name": "ipython",
    "version": 3
   },
   "file_extension": ".py",
   "mimetype": "text/x-python",
   "name": "python",
   "nbconvert_exporter": "python",
   "pygments_lexer": "ipython3",
   "version": "3.8.3"
  }
 },
 "nbformat": 4,
 "nbformat_minor": 2
}
