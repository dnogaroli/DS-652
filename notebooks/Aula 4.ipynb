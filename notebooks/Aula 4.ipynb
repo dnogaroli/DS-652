{
 "cells": [
  {
   "cell_type": "markdown",
   "metadata": {},
   "source": [
    "## Aula 4: Visualização de Dados II"
   ]
  },
  {
   "cell_type": "markdown",
   "metadata": {},
   "source": [
    "## Códigos"
   ]
  },
  {
   "cell_type": "markdown",
   "metadata": {},
   "source": [
    "#### Seaborn"
   ]
  },
  {
   "cell_type": "code",
   "execution_count": null,
   "metadata": {
    "ExecuteTime": {
     "end_time": "2020-12-10T18:36:06.410828Z",
     "start_time": "2020-12-10T18:36:05.213452Z"
    }
   },
   "outputs": [],
   "source": [
    "import pandas as pd\n",
    "import numpy as np\n",
    "import seaborn as sns\n",
    "import matplotlib.pyplot as plt\n",
    "%matplotlib inline"
   ]
  },
  {
   "cell_type": "code",
   "execution_count": null,
   "metadata": {
    "ExecuteTime": {
     "end_time": "2020-12-10T18:36:10.710416Z",
     "start_time": "2020-12-10T18:36:08.318379Z"
    }
   },
   "outputs": [],
   "source": [
    "df_titanic = sns.load_dataset('titanic')\n",
    "df_titanic.head()"
   ]
  },
  {
   "cell_type": "code",
   "execution_count": null,
   "metadata": {
    "ExecuteTime": {
     "end_time": "2020-12-10T18:36:10.842271Z",
     "start_time": "2020-12-10T18:36:10.712453Z"
    }
   },
   "outputs": [],
   "source": [
    "sns.countplot(data=df_titanic, x='sex')"
   ]
  },
  {
   "cell_type": "code",
   "execution_count": null,
   "metadata": {
    "ExecuteTime": {
     "end_time": "2020-12-10T18:36:11.651730Z",
     "start_time": "2020-12-10T18:36:11.468884Z"
    }
   },
   "outputs": [],
   "source": [
    "sns.barplot(data=df_titanic,x='sex',y='survived')"
   ]
  },
  {
   "cell_type": "code",
   "execution_count": null,
   "metadata": {
    "ExecuteTime": {
     "end_time": "2020-12-10T18:36:13.763832Z",
     "start_time": "2020-12-10T18:36:13.580637Z"
    }
   },
   "outputs": [],
   "source": [
    "sns.barplot(data=df_titanic,x='pclass',y='survived')"
   ]
  },
  {
   "cell_type": "code",
   "execution_count": null,
   "metadata": {
    "ExecuteTime": {
     "end_time": "2020-12-10T18:36:14.345543Z",
     "start_time": "2020-12-10T18:36:14.207023Z"
    }
   },
   "outputs": [],
   "source": [
    "sns.boxplot(data=df_titanic,x='sex',y='age')"
   ]
  },
  {
   "cell_type": "code",
   "execution_count": null,
   "metadata": {
    "ExecuteTime": {
     "end_time": "2020-12-10T18:36:15.140759Z",
     "start_time": "2020-12-10T18:36:15.000849Z"
    }
   },
   "outputs": [],
   "source": [
    "sns.boxplot(data=df_titanic,x='pclass',y='age')"
   ]
  },
  {
   "cell_type": "code",
   "execution_count": null,
   "metadata": {
    "ExecuteTime": {
     "end_time": "2020-12-10T18:36:37.903403Z",
     "start_time": "2020-12-10T18:36:37.654486Z"
    }
   },
   "outputs": [],
   "source": [
    "sns.displot(df_titanic['age'].dropna())"
   ]
  },
  {
   "cell_type": "code",
   "execution_count": null,
   "metadata": {
    "ExecuteTime": {
     "end_time": "2020-12-10T18:41:30.298619Z",
     "start_time": "2020-12-10T18:41:30.062232Z"
    }
   },
   "outputs": [],
   "source": [
    "sns.displot(df_titanic['age'].dropna(), kde=True)"
   ]
  },
  {
   "cell_type": "code",
   "execution_count": null,
   "metadata": {
    "ExecuteTime": {
     "end_time": "2020-12-10T18:41:34.307300Z",
     "start_time": "2020-12-10T18:41:34.113846Z"
    }
   },
   "outputs": [],
   "source": [
    "sns.displot(df_titanic['age'].dropna(), kind='kde')"
   ]
  },
  {
   "cell_type": "code",
   "execution_count": null,
   "metadata": {
    "ExecuteTime": {
     "end_time": "2020-12-10T18:41:36.825360Z",
     "start_time": "2020-12-10T18:41:36.789922Z"
    }
   },
   "outputs": [],
   "source": [
    "df_titanic.head()"
   ]
  },
  {
   "cell_type": "code",
   "execution_count": null,
   "metadata": {
    "ExecuteTime": {
     "end_time": "2020-12-10T18:42:13.080569Z",
     "start_time": "2020-12-10T18:42:12.494663Z"
    }
   },
   "outputs": [],
   "source": [
    "df_titanic.select_dtypes(exclude=['object', 'bool']).hist(figsize=(16, 8), grid=False)\n",
    "plt.show()"
   ]
  },
  {
   "cell_type": "code",
   "execution_count": null,
   "metadata": {
    "ExecuteTime": {
     "end_time": "2020-12-10T18:44:57.406019Z",
     "start_time": "2020-12-10T18:44:57.128492Z"
    }
   },
   "outputs": [],
   "source": [
    "sns.lmplot(data=df_titanic,x='age',y='fare')"
   ]
  },
  {
   "cell_type": "code",
   "execution_count": null,
   "metadata": {
    "ExecuteTime": {
     "end_time": "2020-12-10T18:47:21.155648Z",
     "start_time": "2020-12-10T18:47:20.465988Z"
    }
   },
   "outputs": [],
   "source": [
    "sns.jointplot(data=df_titanic,x='age',y='fare')"
   ]
  },
  {
   "cell_type": "code",
   "execution_count": null,
   "metadata": {
    "ExecuteTime": {
     "end_time": "2020-12-10T18:47:35.000129Z",
     "start_time": "2020-12-10T18:47:25.589971Z"
    },
    "scrolled": true
   },
   "outputs": [],
   "source": [
    "sns.pairplot(df_titanic.select_dtypes(exclude=['object', 'bool']))"
   ]
  },
  {
   "cell_type": "markdown",
   "metadata": {},
   "source": [
    "#### Tips"
   ]
  },
  {
   "cell_type": "code",
   "execution_count": null,
   "metadata": {
    "ExecuteTime": {
     "end_time": "2020-03-14T21:07:51.856676Z",
     "start_time": "2020-03-14T21:07:51.218379Z"
    }
   },
   "outputs": [],
   "source": [
    "sns.lmplot(data=df_titanic,x='age',y='fare', hue='survived')"
   ]
  },
  {
   "cell_type": "code",
   "execution_count": null,
   "metadata": {
    "ExecuteTime": {
     "end_time": "2020-12-10T18:48:07.003222Z",
     "start_time": "2020-12-10T18:48:06.292967Z"
    }
   },
   "outputs": [],
   "source": [
    "sns.lmplot(data=df_titanic,x='age',y='fare', hue='survived', order=2)"
   ]
  },
  {
   "cell_type": "markdown",
   "metadata": {},
   "source": [
    "#### Turismo"
   ]
  },
  {
   "cell_type": "code",
   "execution_count": null,
   "metadata": {
    "ExecuteTime": {
     "end_time": "2020-12-10T19:05:23.979017Z",
     "start_time": "2020-12-10T19:05:23.628750Z"
    }
   },
   "outputs": [],
   "source": [
    "df_tourist = pd.read_csv('../datasets/touristData.csv')"
   ]
  },
  {
   "cell_type": "code",
   "execution_count": null,
   "metadata": {
    "ExecuteTime": {
     "end_time": "2020-12-10T19:05:25.153460Z",
     "start_time": "2020-12-10T19:05:25.121605Z"
    }
   },
   "outputs": [],
   "source": [
    "df_tourist.head()"
   ]
  },
  {
   "cell_type": "code",
   "execution_count": null,
   "metadata": {
    "ExecuteTime": {
     "end_time": "2020-12-10T19:05:26.172642Z",
     "start_time": "2020-12-10T19:05:26.081636Z"
    },
    "scrolled": true
   },
   "outputs": [],
   "source": [
    "df = df_tourist.pivot_table(values='Count',index='Month',columns='Year',aggfunc=sum)"
   ]
  },
  {
   "cell_type": "code",
   "execution_count": null,
   "metadata": {
    "ExecuteTime": {
     "end_time": "2020-12-10T19:05:31.071018Z",
     "start_time": "2020-12-10T19:05:30.841251Z"
    },
    "scrolled": true
   },
   "outputs": [],
   "source": [
    "sns.heatmap(df)"
   ]
  },
  {
   "cell_type": "code",
   "execution_count": null,
   "metadata": {
    "ExecuteTime": {
     "end_time": "2020-12-10T19:05:33.246941Z",
     "start_time": "2020-12-10T19:05:33.224589Z"
    }
   },
   "outputs": [],
   "source": [
    "df_tourist.head()"
   ]
  },
  {
   "cell_type": "code",
   "execution_count": null,
   "metadata": {
    "ExecuteTime": {
     "end_time": "2020-12-10T19:05:35.661595Z",
     "start_time": "2020-12-10T19:05:35.615788Z"
    }
   },
   "outputs": [],
   "source": [
    "df_tourist['Month'].unique()"
   ]
  },
  {
   "cell_type": "code",
   "execution_count": null,
   "metadata": {
    "ExecuteTime": {
     "end_time": "2020-12-10T19:05:36.244895Z",
     "start_time": "2020-12-10T19:05:36.189799Z"
    }
   },
   "outputs": [],
   "source": [
    "df_tourist['Month'] = pd.Categorical(df_tourist['Month'], \n",
    "                                     categories=['janeiro', 'fevereiro', 'março',\n",
    "                                                 'abril', 'maio', 'junho', 'julho',\n",
    "                                                 'agosto', 'setembro', 'outubro', \n",
    "                                                 'novembro', 'dezembro'], ordered=True)"
   ]
  },
  {
   "cell_type": "code",
   "execution_count": null,
   "metadata": {
    "ExecuteTime": {
     "end_time": "2020-12-10T19:05:36.960418Z",
     "start_time": "2020-12-10T19:05:36.934211Z"
    }
   },
   "outputs": [],
   "source": [
    "df_tourist['Month']"
   ]
  },
  {
   "cell_type": "code",
   "execution_count": null,
   "metadata": {
    "ExecuteTime": {
     "end_time": "2020-12-10T19:06:19.564545Z",
     "start_time": "2020-12-10T19:06:19.489772Z"
    }
   },
   "outputs": [],
   "source": [
    "df = df_tourist.pivot_table(values='Count',index='Month',columns='Year',aggfunc=sum)\n",
    "df"
   ]
  },
  {
   "cell_type": "code",
   "execution_count": null,
   "metadata": {
    "ExecuteTime": {
     "end_time": "2020-12-10T19:06:20.671654Z",
     "start_time": "2020-12-10T19:06:20.452524Z"
    }
   },
   "outputs": [],
   "source": [
    "sns.heatmap(df)"
   ]
  },
  {
   "cell_type": "code",
   "execution_count": null,
   "metadata": {
    "ExecuteTime": {
     "end_time": "2020-12-10T19:07:29.012925Z",
     "start_time": "2020-12-10T19:07:28.928445Z"
    }
   },
   "outputs": [],
   "source": [
    "df_tourist_pivot = df_tourist.pivot_table(values='Count',index='Month',columns='Year',aggfunc=np.mean)\n",
    "df_tourist_pivot.head()"
   ]
  },
  {
   "cell_type": "code",
   "execution_count": null,
   "metadata": {
    "ExecuteTime": {
     "end_time": "2020-12-10T19:09:27.446528Z",
     "start_time": "2020-12-10T19:09:27.225422Z"
    }
   },
   "outputs": [],
   "source": [
    "sns.heatmap(df_tourist_pivot,cmap='inferno')"
   ]
  },
  {
   "cell_type": "markdown",
   "metadata": {},
   "source": [
    "#### Gráficos 3D"
   ]
  },
  {
   "cell_type": "code",
   "execution_count": null,
   "metadata": {
    "ExecuteTime": {
     "end_time": "2020-12-10T19:14:02.454601Z",
     "start_time": "2020-12-10T19:14:02.439626Z"
    }
   },
   "outputs": [],
   "source": [
    "X = np.arange(-4, 4, 0.25)\n",
    "Y = np.arange(-4, 4, 0.25)\n",
    "X,  Y\n",
    "X, Y = np.meshgrid(X, Y)"
   ]
  },
  {
   "cell_type": "code",
   "execution_count": null,
   "metadata": {
    "ExecuteTime": {
     "end_time": "2020-12-10T19:19:50.874867Z",
     "start_time": "2020-12-10T19:19:50.665539Z"
    }
   },
   "outputs": [],
   "source": [
    "from mpl_toolkits.mplot3d.axes3d import Axes3D\n",
    "fig = plt.figure(figsize=(10, 3))\n",
    "X = np.arange(-4, 4, 0.25)\n",
    "Y = np.arange(-10, -2, 0.25)\n",
    "\n",
    "ax = Axes3D(fig)\n",
    "X, Y = np.meshgrid(X, Y)\n",
    "R = np.sqrt(X**2 + Y**2)\n",
    "Z = np.sin(R)\n",
    "ax.plot_surface(X, Y, Z, rstride=1, cstride=1, cmap='hot')\n",
    "\n",
    "ax.view_init(45, 40)\n",
    "plt.show()"
   ]
  }
 ],
 "metadata": {
  "hide_input": false,
  "kernelspec": {
   "display_name": "Python 3",
   "language": "python",
   "name": "python3"
  },
  "language_info": {
   "codemirror_mode": {
    "name": "ipython",
    "version": 3
   },
   "file_extension": ".py",
   "mimetype": "text/x-python",
   "name": "python",
   "nbconvert_exporter": "python",
   "pygments_lexer": "ipython3",
   "version": "3.8.3"
  }
 },
 "nbformat": 4,
 "nbformat_minor": 2
}
