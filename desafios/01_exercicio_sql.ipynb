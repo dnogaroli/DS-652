{
 "cells": [
  {
   "cell_type": "markdown",
   "metadata": {},
   "source": [
    "# Case Olist\n",
    "## Tabelas:\n",
    " - **Customers**: guarda a cidade, o CEP e o estado do consumidor. Chave: customer_id.\n",
    "  - Colunas:\n",
    "    - customer_id;\n",
    "    - customer_unique_id;\n",
    "    - customer_zip_code_prefix;\n",
    "    - customer_city; e\n",
    "    - customer_state.\n",
    " - **Geolocation**: guarda informações de cidades tais como o CEP, latitude, longitude, nome e estado;\n",
    "  - Colunas:\n",
    "    - geolocation_zip_code_prefix;\n",
    "    - geolocation_lat;\n",
    "    - geolocation_lng;\n",
    "    - geolocation_city; e\n",
    "    - geolocation_state.\n",
    " - **OrderItems**: guarda informações sobre quais produtos foram vendidos em cada pedido, seu valor, seu vendedor, preço de venda e preço de frete.\n",
    "  - Colunas:\n",
    "    - order_id;\n",
    "    - order_item_id;\n",
    "    - product_id;\n",
    "    - seller_id;\n",
    "    - price; e\n",
    "    - freight_value.\n",
    " - **OrderPayments**: guarda informações sobre o pagamento, parcelas e o valor pago por cada pedido.\n",
    "  - Colunas:\n",
    "    - order_id;\n",
    "    - payment_sequential;\n",
    "    - payment_type;\n",
    "    - payment_installments; e\n",
    "    - payment_value.\n",
    " - **OrderReviews**: guarda informações sobre *reviews* do pedido.\n",
    "  - Colunas:\n",
    "    - review_id;\n",
    "    - order_id;\n",
    "    - review_score;\n",
    "    - review_comment_title;\n",
    "    - review_comment_message;\n",
    "    - review_creation_date; e\n",
    "    - review_answer_timestamp.\n",
    " - **Orders**: guarda informações sobre o qual o consumidor efetuou a compra, o *status* do pedido, data da compra, datas de entrega (estimada e efetiva)\n",
    "  - Colunas:\n",
    "    - order_id;\n",
    "    - customer_id; \n",
    "    - order_status;\n",
    "    - order_purchase_timestamp;\n",
    "    - order_approved_at;\n",
    "    - order_delivered_carrier_date;\n",
    "    - order_delivered_customer_date; e\n",
    "    - order_estimated_delivery_date.\n",
    " - **Products**: guarda informações sobre sobre a categoria e tamanho dos produtos vendidos. \n",
    "  - Colunas:\n",
    "    - product_id;\n",
    "    - product_category_name;\n",
    "    - product_name_lenght;\n",
    "    - product_description_lenght;\n",
    "    - product_photos_qty;\n",
    "    - product_weight_g;\n",
    "    - product_length_cm;\n",
    "    - product_height_cm; e\n",
    "    - product_width_cm.\n",
    " - **Sellers**: guarda informações do vendedor, tais como a cidade, estado e o código postal\n",
    "  - Colunas:\n",
    "    - seller_id;\n",
    "    - seller_zip_code_prefix;\n",
    "    - seller_city; e\n",
    "    - seller_state."
   ]
  },
  {
   "cell_type": "markdown",
   "metadata": {},
   "source": [
    "## Perguntas:\n",
    "\n",
    " - Qual a receita total?\n",
    " - Qual a porcentagem dos produtos entregues e não entregues?\n",
    " - Use a coluna `review_score` para avaliar a contagem de pedidos para cada *score*\n",
    " - Qual foi a receita por estado? Faça um gráfico de barras para os 10 maiores.\n",
    " - Qual foi a receita por cidade? Faça um gráfico de barras para os 10 maiores.\n",
    " - Qual foi a receita por tipo de pagamento (`payment_installments`)?\n",
    " - Qual foi a receita e número de vendas por categoria de produto? Faça um gráfico de barras para os 10 maiores de cada\n",
    " - Distribuição do número de pedidos que os clientes fazem.\n",
    " - Distribuição do valor gasto para os clientes que fizeram mais de um pedido. Compare com a distribuição do valor gasto por cliente.\n",
    " - Qual a distribuição de valores de venda para a cidade de São Paulo? Faça um histograma e um *boxplot*\n",
    " - Qual a receita e o número de vendas por vendedor?\n",
    " - Faça um gráfico de linhas mostrando a evolução temporal, separe depois pelos 2 estados de maior receita e 2 categorias pelas categorias de maior receita. \n",
    " - **DESAFIO:** qual a categoria que mais foi vendida em cada estado?\n",
    " - **DESAFIO:** existe alguma influência da média de gasto com `review_score`? Veja também a contagem por cada\n",
    " - **DESAFIO:** qual a porcentagem dos produtos atrasaram? Determine, entre os que atrasaram, a distribuição (histograma e boxplot) do tempo de atraso."
   ]
  },
  {
   "cell_type": "markdown",
   "metadata": {},
   "source": [
    "## Arquivos DB\n",
    "\n",
    "Você recebeu o arquivo `sales.db` que é um database contendo os dados para a aula de hoje. Para lê-lo, usaremos o Pandas e o SQLlite3, exemplo:\n",
    "```python\n",
    "%matplotlib inline\n",
    "import pandas as pd\n",
    "import sqlite3 \n",
    "con = sqlite3.connect('sales.db')\n",
    "```"
   ]
  },
  {
   "cell_type": "markdown",
   "metadata": {},
   "source": [
    "# Case Sales Facts"
   ]
  },
  {
   "cell_type": "markdown",
   "metadata": {},
   "source": [
    "Para se conectar ao banco, use:\n",
    "```python\n",
    "usuario = 'datasciencelc'\n",
    "senha = 'programar123'\n",
    "host = 'db4free.net'\n",
    "porta = '3306'\n",
    "database = 'aula_db_lc'\n",
    "s = \"mysql+mysqlconnector://{}:{}@{}:{}/{}\".format(\n",
    "    usuario,\n",
    "    senha,\n",
    "    host,\n",
    "    porta,\n",
    "    database\n",
    ")\n",
    "```\n",
    "\n",
    "## Perguntas\n",
    "\n",
    "**Exercício 1:** Qual foi a receita total das vendas?\n",
    "\n",
    "**Exercício 2:** Quais são os 10 produtos que mais venderam (em termos de unidades vendidas e valor de venda)? \n",
    "\n",
    "**Exercício 3:** Quais foram as 10 categorias que mais venderam (em termos de unidades e valores de venda)?\n",
    "\n",
    "**Exercício 4:** Quais foram as 10 segmentos que mais venderam (em termos de unidades e valores de venda)?\n",
    "\n",
    "**Exercício 5:** Quanto foi vendido por cada empresa?\n",
    "\n",
    "**Exercício 6:** Qual o valor médio de cada produto?"
   ]
  },
  {
   "cell_type": "code",
   "execution_count": 1,
   "metadata": {},
   "outputs": [
    {
     "data": {
      "text/plain": [
       "'/home/lc19/Downloads'"
      ]
     },
     "execution_count": 1,
     "metadata": {},
     "output_type": "execute_result"
    }
   ],
   "source": [
    "pwd"
   ]
  },
  {
   "cell_type": "code",
   "execution_count": 1,
   "metadata": {
    "ExecuteTime": {
     "end_time": "2020-12-18T00:45:29.292652Z",
     "start_time": "2020-12-18T00:45:29.284094Z"
    }
   },
   "outputs": [],
   "source": [
    "usuario = 'datasciencelc'\n",
    "senha = 'programar123'\n",
    "host = 'db4free.net'\n",
    "porta = '3306'\n",
    "database = 'aula_db_lc'\n",
    "s = \"mysql+mysqlconnector://{}:{}@{}:{}/{}\".format(\n",
    "    usuario,\n",
    "    senha,\n",
    "    host,\n",
    "    porta,\n",
    "    database\n",
    ")\n",
    "\n"
   ]
  },
  {
   "cell_type": "code",
   "execution_count": 5,
   "metadata": {
    "ExecuteTime": {
     "end_time": "2020-12-18T00:48:37.198461Z",
     "start_time": "2020-12-18T00:48:34.789387Z"
    }
   },
   "outputs": [
    {
     "name": "stdout",
     "output_type": "stream",
     "text": [
      "[('Geo',), ('date',), ('manufacturer',), ('product',), ('vendas',)]\n"
     ]
    }
   ],
   "source": [
    "import mysql.connector\n",
    "import pandas as pd\n",
    "\n",
    "con = mysql.connector.connect(user=usuario, \n",
    "                              password=senha,\n",
    "                              host=host,\n",
    "                              database=database, port=porta)\n",
    "cur = con.cursor()\n",
    "\n",
    "cur.execute('SHOW TABLES')\n",
    "print(cur.fetchall())"
   ]
  }
 ],
 "metadata": {
  "hide_input": false,
  "kernelspec": {
   "display_name": "Python 3",
   "language": "python",
   "name": "python3"
  },
  "language_info": {
   "codemirror_mode": {
    "name": "ipython",
    "version": 3
   },
   "file_extension": ".py",
   "mimetype": "text/x-python",
   "name": "python",
   "nbconvert_exporter": "python",
   "pygments_lexer": "ipython3",
   "version": "3.8.3"
  }
 },
 "nbformat": 4,
 "nbformat_minor": 4
}
